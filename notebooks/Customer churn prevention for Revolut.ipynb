{
 "cells": [
  {
   "cell_type": "markdown",
   "metadata": {},
   "source": [
    "# Data challenge - churn prevention for Revolut"
   ]
  },
  {
   "cell_type": "markdown",
   "metadata": {},
   "source": [
    "## Prepare packages"
   ]
  },
  {
   "cell_type": "markdown",
   "metadata": {},
   "source": [
    "We're reading below standard data science toolkit, including tools for data processing (e.g. `dask` - \"pandas in parallel\"), visualization tools (like e.g. `plotly`, `seaborn`) and some machine-learning frameworks (`scikit-learn`, and similar)."
   ]
  },
  {
   "cell_type": "markdown",
   "metadata": {},
   "source": [
    "### System packages"
   ]
  },
  {
   "cell_type": "code",
   "execution_count": 1,
   "metadata": {},
   "outputs": [],
   "source": [
    "import multiprocessing"
   ]
  },
  {
   "cell_type": "code",
   "execution_count": 2,
   "metadata": {},
   "outputs": [],
   "source": [
    "import sys\n",
    "import os"
   ]
  },
  {
   "cell_type": "code",
   "execution_count": 3,
   "metadata": {},
   "outputs": [],
   "source": [
    "module_path = os.path.abspath(os.path.join('../code/'))\n",
    "if module_path not in sys.path:\n",
    "    sys.path.append(module_path)"
   ]
  },
  {
   "cell_type": "markdown",
   "metadata": {},
   "source": [
    "### Data science toolkit"
   ]
  },
  {
   "cell_type": "code",
   "execution_count": 4,
   "metadata": {},
   "outputs": [],
   "source": [
    "import numpy as np\n",
    "import pandas as pd\n",
    "import dask.dataframe as dd"
   ]
  },
  {
   "cell_type": "markdown",
   "metadata": {},
   "source": [
    "### Machine learning"
   ]
  },
  {
   "cell_type": "code",
   "execution_count": 5,
   "metadata": {},
   "outputs": [],
   "source": [
    "import featuretools as ft"
   ]
  },
  {
   "cell_type": "markdown",
   "metadata": {},
   "source": [
    "### Visualizations"
   ]
  },
  {
   "cell_type": "code",
   "execution_count": 6,
   "metadata": {},
   "outputs": [],
   "source": [
    "import seaborn as sns"
   ]
  },
  {
   "cell_type": "code",
   "execution_count": 40,
   "metadata": {},
   "outputs": [],
   "source": [
    "import plotly.express as px"
   ]
  },
  {
   "cell_type": "markdown",
   "metadata": {},
   "source": [
    "### Other"
   ]
  },
  {
   "cell_type": "code",
   "execution_count": 7,
   "metadata": {},
   "outputs": [],
   "source": [
    "from pandas_profiling import ProfileReport"
   ]
  },
  {
   "cell_type": "code",
   "execution_count": 8,
   "metadata": {},
   "outputs": [],
   "source": [
    "from rnormalize import normalize_user_id"
   ]
  },
  {
   "cell_type": "code",
   "execution_count": 43,
   "metadata": {},
   "outputs": [],
   "source": [
    "from rtools import get_user_plan"
   ]
  },
  {
   "cell_type": "markdown",
   "metadata": {},
   "source": [
    "## Read data"
   ]
  },
  {
   "cell_type": "markdown",
   "metadata": {},
   "source": [
    "This Jupyter notebook follows rules of reproducible resarch, meaning it can be re-run (after preparing the environment, as defined in requirements.txt) - resulting in similar values in the output and exactly same business conclussions. The only requirement is to have the same file/dir structure - notebook should be located in the `notebooks` directory, above, we should have data in the `data` directory, and some additional sources in the `code` directory. "
   ]
  },
  {
   "cell_type": "markdown",
   "metadata": {},
   "source": [
    "### file location"
   ]
  },
  {
   "cell_type": "code",
   "execution_count": 9,
   "metadata": {},
   "outputs": [],
   "source": [
    "devices_filename = '../data/rev-devices.csv'\n",
    "notifications_filename = '../data/rev-notifications.csv'\n",
    "users_filename = '../data/rev-users.csv'\n",
    "transactions_filename = '../data/rev-transactions.csv'"
   ]
  },
  {
   "cell_type": "markdown",
   "metadata": {},
   "source": [
    "### read csv files"
   ]
  },
  {
   "cell_type": "code",
   "execution_count": 10,
   "metadata": {},
   "outputs": [
    {
     "data": {
      "text/plain": [
       "'File ../data/rev-devices.csv was successfully read'"
      ]
     },
     "execution_count": 10,
     "metadata": {},
     "output_type": "execute_result"
    }
   ],
   "source": [
    "devices = dd.read_csv(devices_filename)\n",
    "f'File {devices_filename} was successfully read'"
   ]
  },
  {
   "cell_type": "code",
   "execution_count": 11,
   "metadata": {},
   "outputs": [
    {
     "data": {
      "text/plain": [
       "'File ../data/rev-notifications.csv was successfully read'"
      ]
     },
     "execution_count": 11,
     "metadata": {},
     "output_type": "execute_result"
    }
   ],
   "source": [
    "notifications = dd.read_csv(notifications_filename)\n",
    "f'File {notifications_filename} was successfully read'"
   ]
  },
  {
   "cell_type": "code",
   "execution_count": 12,
   "metadata": {},
   "outputs": [
    {
     "data": {
      "text/plain": [
       "'File ../data/rev-users.csv was successfully read'"
      ]
     },
     "execution_count": 12,
     "metadata": {},
     "output_type": "execute_result"
    }
   ],
   "source": [
    "users = dd.read_csv(users_filename)\n",
    "f'File {users_filename} was successfully read'"
   ]
  },
  {
   "cell_type": "code",
   "execution_count": 13,
   "metadata": {},
   "outputs": [
    {
     "data": {
      "text/plain": [
       "'File ../data/rev-transactions.csv was successfully read'"
      ]
     },
     "execution_count": 13,
     "metadata": {},
     "output_type": "execute_result"
    }
   ],
   "source": [
    "transactions = dd.read_csv(transactions_filename)\n",
    "f'File {transactions_filename} was successfully read'"
   ]
  },
  {
   "cell_type": "markdown",
   "metadata": {},
   "source": [
    "## Data book"
   ]
  },
  {
   "cell_type": "markdown",
   "metadata": {},
   "source": [
    "The objective of the Data Book is to provide useful `summaries of data`, which are easily understood by everyone."
   ]
  },
  {
   "cell_type": "markdown",
   "metadata": {},
   "source": [
    "1. table: **devices.csv**\n",
    "   \n",
    "   a table of devices associated with a user\n",
    "     - brand​: string corresponding to the phone brand\n",
    "     - user_id​: string uniquely identifying the user"
   ]
  },
  {
   "cell_type": "markdown",
   "metadata": {},
   "source": [
    "2. table: **users.csv**\n",
    "\n",
    "   a table of user data\n",
    "\n",
    "    - user_id​: string uniquely identifying the user\n",
    "    - birth_year​: integer corresponding to the user’s birth year\n",
    "    - country​: two letter string corresponding to the user’s country of residence\n",
    "    - city​: two string corresponding to the user’s city of residence\n",
    "    - created_date​: datetime corresponding to the user’s created date\n",
    "    - user_settings_crypto_unlocked​: integer indicating if the user has unlocked the crypto\n",
    "    currencies in the app\n",
    "    - plan​: string indicating on which plan the user is on\n",
    "    - attributes_notifications_marketing_push​: float indicating if the user has accepted to receive\n",
    "    marketing push notifications\n",
    "    - attributes_notifications_marketing_email​: float indicating if the user has accepted to receive\n",
    "    marketing email notifications\n",
    "    - num_contacts​: integer corresponding to the number of contacts the user has on Revolut\n",
    "    - num_referrals​: integer corresponding to the number of users referred by the selected user\n",
    "    - num_successful_referrals​: integer corresponding to the number of users successfully\n",
    "    referred by the selected user (successfully means users who have actually installed the app and are able to use the product)"
   ]
  },
  {
   "cell_type": "markdown",
   "metadata": {},
   "source": [
    "3. table: **notifications.csv**\n",
    "\n",
    "   a table of notifications that a user has received\n",
    "\n",
    "    - reason​: string indicating the purpose of the notification\n",
    "    - channel​: string indicating how the user has been notified\n",
    "    - status​: string indicating the status of the notification\n",
    "    - user_id​: string uniquely identifying the user\n",
    "    - created_date​: datetime indicating when the notification has been sent"
   ]
  },
  {
   "cell_type": "markdown",
   "metadata": {},
   "source": [
    "4. table: **transactions.csv**\n",
    "\n",
    "   a table with transactions that a user made\n",
    "\n",
    "    - transaction_id​: string uniquely identifying the transaction\n",
    "    - transactions_type​: string indicating the type of the transaction\n",
    "    - transactions_currency​: string indicating the currency of the transaction\n",
    "    - amount_usd​: float corresponding to the transaction amount in USD\n",
    "    - transactions_state​: string indicating the state of a transaction\n",
    "    - COMPLETED - the transaction was completed and the user's balance was changed\n",
    "    - DECLINED/FAILED - the transaction was declined for some reason, usually pertains to\n",
    "    insufficient balance\n",
    "    - REVERTED - the associated transaction was completed first but was then rolled back\n",
    "    later in time potentially due to customer reaching out to Revolut\n",
    "    - ea_cardholderpresence​: string indicating if the card holder was present when the transaction\n",
    "    happened\n",
    "    - ea_merchant_mcc​: float corresponding to the Merchant Category Code (MCC)\n",
    "    - ea_merchant_city​: string corresponding to the merchant’s city\n",
    "    - ea_merchant_country​: string corresponding to the merchant’s country\n",
    "    - direction​: string indicating the direction of the transaction\n",
    "    - user_id​: string uniquely identifying the user\n",
    "    - created_date​: datetime corresponding to the transaction’s created date"
   ]
  },
  {
   "cell_type": "markdown",
   "metadata": {},
   "source": [
    "## First glance at the data"
   ]
  },
  {
   "cell_type": "markdown",
   "metadata": {},
   "source": [
    "We're checking here what's the size of data and how many columns we got"
   ]
  },
  {
   "cell_type": "markdown",
   "metadata": {},
   "source": [
    "### Data volume"
   ]
  },
  {
   "cell_type": "code",
   "execution_count": 14,
   "metadata": {},
   "outputs": [
    {
     "data": {
      "text/plain": [
       "'There are 19430 rows in the \"devices\" table'"
      ]
     },
     "execution_count": 14,
     "metadata": {},
     "output_type": "execute_result"
    }
   ],
   "source": [
    "f'There are {devices.shape[0].compute()} rows in the \"devices\" table'"
   ]
  },
  {
   "cell_type": "code",
   "execution_count": 15,
   "metadata": {},
   "outputs": [
    {
     "data": {
      "text/plain": [
       "'There are 121813 rows in the \"notifications\" table'"
      ]
     },
     "execution_count": 15,
     "metadata": {},
     "output_type": "execute_result"
    }
   ],
   "source": [
    "f'There are {notifications.shape[0].compute()} rows in the \"notifications\" table'"
   ]
  },
  {
   "cell_type": "code",
   "execution_count": 16,
   "metadata": {},
   "outputs": [
    {
     "data": {
      "text/plain": [
       "'There are 19430 rows in the \"users\" table'"
      ]
     },
     "execution_count": 16,
     "metadata": {},
     "output_type": "execute_result"
    }
   ],
   "source": [
    "f'There are {users.shape[0].compute()} rows in the \"users\" table'"
   ]
  },
  {
   "cell_type": "code",
   "execution_count": 17,
   "metadata": {},
   "outputs": [
    {
     "name": "stdout",
     "output_type": "stream",
     "text": [
      "There are 2740075 rows in the \"transactions\" table. \n",
      "      The transactions table is 141 times bigger \n",
      "      than the number of users.\n"
     ]
    }
   ],
   "source": [
    "print(f'''There are {transactions.shape[0].compute()} rows in the \"transactions\" table. \n",
    "      The transactions table is {int(transactions.shape[0].compute() / users.shape[0].compute())} times bigger \n",
    "      than the number of users.''')"
   ]
  },
  {
   "cell_type": "markdown",
   "metadata": {},
   "source": [
    "### Columns and their data types"
   ]
  },
  {
   "cell_type": "code",
   "execution_count": 18,
   "metadata": {},
   "outputs": [
    {
     "data": {
      "text/plain": [
       "brand      object\n",
       "user_id    object\n",
       "dtype: object"
      ]
     },
     "execution_count": 18,
     "metadata": {},
     "output_type": "execute_result"
    }
   ],
   "source": [
    "devices.dtypes"
   ]
  },
  {
   "cell_type": "markdown",
   "metadata": {},
   "source": [
    "This is rather self-explanatory. It tells what type of device user is using (column - `brand`). "
   ]
  },
  {
   "cell_type": "code",
   "execution_count": 19,
   "metadata": {},
   "outputs": [
    {
     "data": {
      "text/plain": [
       "reason          object\n",
       "channel         object\n",
       "status          object\n",
       "user_id         object\n",
       "created_date    object\n",
       "dtype: object"
      ]
     },
     "execution_count": 19,
     "metadata": {},
     "output_type": "execute_result"
    }
   ],
   "source": [
    "notifications.dtypes"
   ]
  },
  {
   "cell_type": "markdown",
   "metadata": {},
   "source": [
    "This is an interesting table. We're especially thrilling to investigate what type of messages are sent to the users (column - `reason`). Probably they're mostly \"push\" messages."
   ]
  },
  {
   "cell_type": "code",
   "execution_count": 20,
   "metadata": {},
   "outputs": [
    {
     "data": {
      "text/plain": [
       "user_id                                      object\n",
       "birth_year                                    int64\n",
       "country                                      object\n",
       "city                                         object\n",
       "created_date                                 object\n",
       "user_settings_crypto_unlocked                 int64\n",
       "plan                                         object\n",
       "attributes_notifications_marketing_push     float64\n",
       "attributes_notifications_marketing_email    float64\n",
       "num_contacts                                  int64\n",
       "num_referrals                                 int64\n",
       "num_successful_referrals                      int64\n",
       "dtype: object"
      ]
     },
     "execution_count": 20,
     "metadata": {},
     "output_type": "execute_result"
    }
   ],
   "source": [
    "users.dtypes"
   ]
  },
  {
   "cell_type": "markdown",
   "metadata": {},
   "source": [
    "Data on the user. We have information on the type of plan, as well as, some extra data about number of marketing messages. "
   ]
  },
  {
   "cell_type": "code",
   "execution_count": 21,
   "metadata": {},
   "outputs": [
    {
     "data": {
      "text/plain": [
       "transaction_id            object\n",
       "transactions_type         object\n",
       "transactions_currency     object\n",
       "amount_usd               float64\n",
       "transactions_state        object\n",
       "ea_cardholderpresence     object\n",
       "ea_merchant_mcc          float64\n",
       "ea_merchant_city          object\n",
       "ea_merchant_country       object\n",
       "direction                 object\n",
       "user_id                   object\n",
       "created_date              object\n",
       "dtype: object"
      ]
     },
     "execution_count": 21,
     "metadata": {},
     "output_type": "execute_result"
    }
   ],
   "source": [
    "transactions.dtypes"
   ]
  },
  {
   "cell_type": "markdown",
   "metadata": {},
   "source": [
    "Transactional data. It should be possible to find transaction type (atm/transfer/online), as well as country of the merchant. "
   ]
  },
  {
   "cell_type": "markdown",
   "metadata": {},
   "source": [
    "## Data profiling"
   ]
  },
  {
   "cell_type": "markdown",
   "metadata": {},
   "source": [
    "### Users"
   ]
  },
  {
   "cell_type": "code",
   "execution_count": 22,
   "metadata": {},
   "outputs": [],
   "source": [
    "users_df_profile = ProfileReport(users.sample(frac=0.25).compute(), \n",
    "                                 progress_bar=False,\n",
    "                                 title='Pandas Profiling Report (\"Users\" dataframe)', \n",
    "                                 html={'style':{'full_width':True}})"
   ]
  },
  {
   "cell_type": "code",
   "execution_count": 23,
   "metadata": {},
   "outputs": [
    {
     "data": {
      "application/vnd.jupyter.widget-view+json": {
       "model_id": "76550efc698c4097aa0e7e16083cfe1f",
       "version_major": 2,
       "version_minor": 0
      },
      "text/plain": [
       "Tab(children=(Tab(children=(GridBox(children=(VBox(children=(GridspecLayout(children=(HTML(value='Number of va…"
      ]
     },
     "metadata": {},
     "output_type": "display_data"
    },
    {
     "data": {
      "text/html": [
       "Report generated with <a href=\"https://github.com/pandas-profiling/pandas-profiling\">pandas-profiling</a>."
      ],
      "text/plain": [
       "<IPython.core.display.HTML object>"
      ]
     },
     "metadata": {},
     "output_type": "display_data"
    }
   ],
   "source": [
    "users_df_profile.to_widgets()"
   ]
  },
  {
   "cell_type": "code",
   "execution_count": 24,
   "metadata": {},
   "outputs": [],
   "source": [
    "users_df_profile.to_file(output_file=\"out/users_df_profile_p0.25.html\")  # saving the whole report to an html file"
   ]
  },
  {
   "cell_type": "markdown",
   "metadata": {},
   "source": [
    "### Devices"
   ]
  },
  {
   "cell_type": "code",
   "execution_count": 25,
   "metadata": {},
   "outputs": [],
   "source": [
    "devices_df_profile = ProfileReport(devices.sample(frac=0.25).compute(), \n",
    "                                  progress_bar=False,\n",
    "                                  title='Pandas Profiling Report (\"Devices\" dataframe)', \n",
    "                                  html={'style':{'full_width':True}})"
   ]
  },
  {
   "cell_type": "code",
   "execution_count": 26,
   "metadata": {},
   "outputs": [
    {
     "data": {
      "application/vnd.jupyter.widget-view+json": {
       "model_id": "30ccd0ad9eda46f88bd954342188ec38",
       "version_major": 2,
       "version_minor": 0
      },
      "text/plain": [
       "Tab(children=(Tab(children=(GridBox(children=(VBox(children=(GridspecLayout(children=(HTML(value='Number of va…"
      ]
     },
     "metadata": {},
     "output_type": "display_data"
    },
    {
     "data": {
      "text/html": [
       "Report generated with <a href=\"https://github.com/pandas-profiling/pandas-profiling\">pandas-profiling</a>."
      ],
      "text/plain": [
       "<IPython.core.display.HTML object>"
      ]
     },
     "metadata": {},
     "output_type": "display_data"
    }
   ],
   "source": [
    "devices_df_profile.to_widgets()"
   ]
  },
  {
   "cell_type": "code",
   "execution_count": 27,
   "metadata": {},
   "outputs": [],
   "source": [
    "devices_df_profile.to_file(output_file=\"out/devices_df_profile_p0.25.html\")"
   ]
  },
  {
   "cell_type": "markdown",
   "metadata": {},
   "source": [
    "### Notifications"
   ]
  },
  {
   "cell_type": "code",
   "execution_count": 28,
   "metadata": {},
   "outputs": [],
   "source": [
    "notifications_df_profile = ProfileReport(notifications.sample(frac=0.1).compute(), \n",
    "                                         progress_bar=False,\n",
    "                                         title='Pandas Profiling Report (\"Notifications\" dataframe)', \n",
    "                                         html={'style':{'full_width':True}})"
   ]
  },
  {
   "cell_type": "code",
   "execution_count": 29,
   "metadata": {},
   "outputs": [
    {
     "data": {
      "application/vnd.jupyter.widget-view+json": {
       "model_id": "38deccc4eaa343d5836c280117b985d9",
       "version_major": 2,
       "version_minor": 0
      },
      "text/plain": [
       "Tab(children=(Tab(children=(GridBox(children=(VBox(children=(GridspecLayout(children=(HTML(value='Number of va…"
      ]
     },
     "metadata": {},
     "output_type": "display_data"
    },
    {
     "data": {
      "text/html": [
       "Report generated with <a href=\"https://github.com/pandas-profiling/pandas-profiling\">pandas-profiling</a>."
      ],
      "text/plain": [
       "<IPython.core.display.HTML object>"
      ]
     },
     "metadata": {},
     "output_type": "display_data"
    }
   ],
   "source": [
    "notifications_df_profile.to_widgets()"
   ]
  },
  {
   "cell_type": "code",
   "execution_count": 30,
   "metadata": {},
   "outputs": [],
   "source": [
    "notifications_df_profile.to_file(output_file=\"out/notifications_df_profile_p0.10.html\")"
   ]
  },
  {
   "cell_type": "markdown",
   "metadata": {},
   "source": [
    "### Transactions"
   ]
  },
  {
   "cell_type": "code",
   "execution_count": 31,
   "metadata": {},
   "outputs": [],
   "source": [
    "transactions_pd = transactions.compute()  # store df in memory"
   ]
  },
  {
   "cell_type": "code",
   "execution_count": 32,
   "metadata": {},
   "outputs": [
    {
     "data": {
      "application/vnd.jupyter.widget-view+json": {
       "model_id": "35e9b6061cfd4db29e17697391013d66",
       "version_major": 2,
       "version_minor": 0
      },
      "text/plain": [
       "HBox(children=(FloatProgress(value=0.0, description='variables', max=13.0, style=ProgressStyle(description_wid…"
      ]
     },
     "metadata": {},
     "output_type": "display_data"
    },
    {
     "name": "stdout",
     "output_type": "stream",
     "text": [
      "\n"
     ]
    },
    {
     "data": {
      "application/vnd.jupyter.widget-view+json": {
       "model_id": "db3acd88b3bd46cf8cf7f9c2ba6f73f2",
       "version_major": 2,
       "version_minor": 0
      },
      "text/plain": [
       "HBox(children=(FloatProgress(value=0.0, description='table', max=1.0, style=ProgressStyle(description_width='i…"
      ]
     },
     "metadata": {},
     "output_type": "display_data"
    },
    {
     "name": "stdout",
     "output_type": "stream",
     "text": [
      "\n"
     ]
    },
    {
     "data": {
      "application/vnd.jupyter.widget-view+json": {
       "model_id": "a824819927224b95b3092f143cd12ecd",
       "version_major": 2,
       "version_minor": 0
      },
      "text/plain": [
       "HBox(children=(FloatProgress(value=0.0, description='warnings', max=3.0, style=ProgressStyle(description_width…"
      ]
     },
     "metadata": {},
     "output_type": "display_data"
    },
    {
     "name": "stdout",
     "output_type": "stream",
     "text": [
      "\n"
     ]
    },
    {
     "data": {
      "application/vnd.jupyter.widget-view+json": {
       "model_id": "59796739f61c4380a5104c5c9ba0356a",
       "version_major": 2,
       "version_minor": 0
      },
      "text/plain": [
       "HBox(children=(FloatProgress(value=0.0, description='package', max=1.0, style=ProgressStyle(description_width=…"
      ]
     },
     "metadata": {},
     "output_type": "display_data"
    },
    {
     "name": "stdout",
     "output_type": "stream",
     "text": [
      "\n"
     ]
    },
    {
     "data": {
      "application/vnd.jupyter.widget-view+json": {
       "model_id": "a101360979844d69ac1b9babf98a3daf",
       "version_major": 2,
       "version_minor": 0
      },
      "text/plain": [
       "HBox(children=(FloatProgress(value=0.0, description='build report structure', max=1.0, style=ProgressStyle(des…"
      ]
     },
     "metadata": {},
     "output_type": "display_data"
    },
    {
     "name": "stdout",
     "output_type": "stream",
     "text": [
      "\n"
     ]
    }
   ],
   "source": [
    "transactions_df_profile = ProfileReport(transactions_pd, \n",
    "                                        minimal=True,\n",
    "                                        pool_size=multiprocessing.cpu_count()-1,\n",
    "                                        title='Pandas Profiling Report (\"Transactions\" dataframe)', \n",
    "                                        html={'style':{'full_width':True}})"
   ]
  },
  {
   "cell_type": "code",
   "execution_count": 33,
   "metadata": {},
   "outputs": [
    {
     "data": {
      "application/vnd.jupyter.widget-view+json": {
       "model_id": "b1f1e79f0f4d412d9ebfc1d0b54cb1c2",
       "version_major": 2,
       "version_minor": 0
      },
      "text/plain": [
       "Tab(children=(Tab(children=(GridBox(children=(VBox(children=(GridspecLayout(children=(HTML(value='Number of va…"
      ]
     },
     "metadata": {},
     "output_type": "display_data"
    },
    {
     "data": {
      "text/html": [
       "Report generated with <a href=\"https://github.com/pandas-profiling/pandas-profiling\">pandas-profiling</a>."
      ],
      "text/plain": [
       "<IPython.core.display.HTML object>"
      ]
     },
     "metadata": {},
     "output_type": "display_data"
    }
   ],
   "source": [
    "transactions_df_profile.to_widgets()"
   ]
  },
  {
   "cell_type": "code",
   "execution_count": 34,
   "metadata": {},
   "outputs": [],
   "source": [
    "transactions_df_profile.to_file(output_file=\"out/transactions_df_profile_pALL.html\")"
   ]
  },
  {
   "cell_type": "markdown",
   "metadata": {},
   "source": [
    "## Data engineering"
   ]
  },
  {
   "cell_type": "code",
   "execution_count": 35,
   "metadata": {},
   "outputs": [],
   "source": [
    "users_pd = users.compute()\n",
    "users_pd['user_id'] = users_pd['user_id'].apply(lambda x: normalize_user_id(x)).astype(int)"
   ]
  },
  {
   "cell_type": "code",
   "execution_count": 36,
   "metadata": {},
   "outputs": [],
   "source": [
    "devices_pd = devices.compute().reset_index().rename(columns={'index': 'device_id'})\n",
    "devices_pd['user_id'] = devices_pd['user_id'].apply(lambda x: normalize_user_id(x)).astype(int)"
   ]
  },
  {
   "cell_type": "code",
   "execution_count": 52,
   "metadata": {},
   "outputs": [],
   "source": [
    "notifications_pd = notifications.compute().reset_index().rename(columns={'index': 'notification_id'})\n",
    "notifications_pd['user_id'] = notifications_pd['user_id'].apply(lambda x: normalize_user_id(x)).astype(int)"
   ]
  },
  {
   "cell_type": "code",
   "execution_count": 38,
   "metadata": {},
   "outputs": [],
   "source": [
    "transactions_pd['user_id'] = transactions_pd['user_id'].apply(lambda x: normalize_user_id(x)).astype(int)"
   ]
  },
  {
   "cell_type": "code",
   "execution_count": 39,
   "metadata": {},
   "outputs": [
    {
     "data": {
      "text/plain": [
       "Index                     21920600\n",
       "transaction_id           207134590\n",
       "transactions_type        182275087\n",
       "transactions_currency    164404500\n",
       "amount_usd                21920600\n",
       "transactions_state       180410903\n",
       "ea_cardholderpresence    134482025\n",
       "ea_merchant_mcc           21920600\n",
       "ea_merchant_city         141037387\n",
       "ea_merchant_country      131953088\n",
       "direction                177574595\n",
       "user_id                   21920600\n",
       "created_date             227426225\n",
       "dtype: int64"
      ]
     },
     "execution_count": 39,
     "metadata": {},
     "output_type": "execute_result"
    }
   ],
   "source": [
    "transactions_pd.memory_usage(deep=True)"
   ]
  },
  {
   "cell_type": "markdown",
   "metadata": {},
   "source": [
    "## Exploratory data analysis"
   ]
  },
  {
   "cell_type": "markdown",
   "metadata": {},
   "source": [
    "### Data understanding"
   ]
  },
  {
   "cell_type": "markdown",
   "metadata": {},
   "source": [
    "Let's vizualize some data!"
   ]
  },
  {
   "cell_type": "markdown",
   "metadata": {},
   "source": [
    "### Understanding notifications"
   ]
  },
  {
   "cell_type": "code",
   "execution_count": 56,
   "metadata": {},
   "outputs": [
    {
     "data": {
      "text/plain": [
       "REENGAGEMENT_ACTIVE_FUNDS               35844\n",
       "FIFTH_PAYMENT_PROMO                     23743\n",
       "NO_INITIAL_CARD_USE                     11221\n",
       "NO_INITIAL_CARD_ORDER                   11136\n",
       "METAL_GAME_START                         8373\n",
       "LOST_CARD_ORDER                          6146\n",
       "NO_INITIAL_FREE_PROMOPAGE_CARD_ORDER     5459\n",
       "JOINING_ANNIVERSARY                      4158\n",
       "MADE_MONEY_REQUEST_NOT_SPLIT_BILL        3506\n",
       "ONBOARDING_TIPS_ACTIVATED_USERS          3145\n",
       "ENGAGEMENT_SPLIT_BILL_RESTAURANT         2298\n",
       "BLACK_FRIDAY                             2109\n",
       "METAL_RESERVE_PLAN                       1233\n",
       "PREMIUM_ENGAGEMENT_INACTIVE_CARD         1124\n",
       "WELCOME_HOME                              950\n",
       "PUMPKIN_PAYMENT_NOTIFICATION              690\n",
       "PREMIUM_ENGAGEMENT_FEES_SAVED             678\n",
       "Name: reason, dtype: int64"
      ]
     },
     "execution_count": 56,
     "metadata": {},
     "output_type": "execute_result"
    }
   ],
   "source": [
    "notifications_pd.reason.value_counts()"
   ]
  },
  {
   "cell_type": "code",
   "execution_count": 73,
   "metadata": {},
   "outputs": [
    {
     "data": {
      "text/plain": [
       "EMAIL    61253\n",
       "PUSH     57683\n",
       "SMS       2877\n",
       "Name: channel, dtype: int64"
      ]
     },
     "execution_count": 73,
     "metadata": {},
     "output_type": "execute_result"
    }
   ],
   "source": [
    "notifications_pd.channel.value_counts()"
   ]
  },
  {
   "cell_type": "markdown",
   "metadata": {},
   "source": [
    "The 'SMS' channel is used quite rarely, so we're going to omit it in our visualizations."
   ]
  },
  {
   "cell_type": "code",
   "execution_count": 77,
   "metadata": {},
   "outputs": [],
   "source": [
    "# notifications_plot_data = notifications_pd[notifications_pd.reason.isin(['REENGAGEMENT_ACTIVE_FUNDS',\n",
    "#                                                                          'FIFTH_PAYMENT_PROMO',\n",
    "#                                                                          'METAL_GAME_START',\n",
    "#                                                                          'NO_INITIAL_CARD_USE',\n",
    "#                                                                          'NO_INITIAL_CARD_ORDER'])].sample(n=1*1000)\n",
    "notifications_plot_data = notifications_pd[notifications_pd.channel != 'SMS'].sample(n=30*1000)\n",
    "notifications_plot_data['user_plan'] = notifications_pd['user_id'].apply(lambda x: get_user_plan(x, users_pd))\n",
    "notifications_plot_data['total_notifications'] = 1"
   ]
  },
  {
   "cell_type": "code",
   "execution_count": 78,
   "metadata": {},
   "outputs": [],
   "source": [
    "agg_notifications_plot_data = notifications_plot_data.groupby(['reason', \n",
    "                                                               'channel', \n",
    "                                                               'status', \n",
    "                                                               'user_plan']).agg({'total_notifications': 'sum'})"
   ]
  },
  {
   "cell_type": "code",
   "execution_count": 79,
   "metadata": {},
   "outputs": [
    {
     "data": {
      "application/vnd.plotly.v1+json": {
       "config": {
        "plotlyServerURL": "https://plot.ly"
       },
       "data": [
        {
         "alignmentgroup": "True",
         "hoverlabel": {
          "namelength": 0
         },
         "hovertemplate": "user_plan=METAL<br>channel=PUSH<br>status=FAILED<br>reason=%{x}<br>total_notifications=%{y}",
         "legendgroup": "user_plan=METAL",
         "marker": {
          "color": "#636efa"
         },
         "name": "user_plan=METAL",
         "offsetgroup": "user_plan=METAL",
         "orientation": "v",
         "showlegend": true,
         "textposition": "auto",
         "type": "bar",
         "x": [
          "BLACK_FRIDAY",
          "FIFTH_PAYMENT_PROMO",
          "JOINING_ANNIVERSARY",
          "LOST_CARD_ORDER",
          "METAL_RESERVE_PLAN",
          "PREMIUM_ENGAGEMENT_FEES_SAVED",
          "PREMIUM_ENGAGEMENT_INACTIVE_CARD",
          "PUMPKIN_PAYMENT_NOTIFICATION",
          "REENGAGEMENT_ACTIVE_FUNDS"
         ],
         "xaxis": "x3",
         "y": [
          1,
          22,
          3,
          14,
          1,
          4,
          3,
          1,
          20
         ],
         "yaxis": "y3"
        },
        {
         "alignmentgroup": "True",
         "hoverlabel": {
          "namelength": 0
         },
         "hovertemplate": "user_plan=METAL<br>channel=PUSH<br>status=SENT<br>reason=%{x}<br>total_notifications=%{y}",
         "legendgroup": "user_plan=METAL",
         "marker": {
          "color": "#636efa"
         },
         "name": "user_plan=METAL",
         "offsetgroup": "user_plan=METAL",
         "orientation": "v",
         "showlegend": false,
         "textposition": "auto",
         "type": "bar",
         "x": [
          "BLACK_FRIDAY",
          "FIFTH_PAYMENT_PROMO",
          "JOINING_ANNIVERSARY",
          "LOST_CARD_ORDER",
          "PREMIUM_ENGAGEMENT_FEES_SAVED",
          "PREMIUM_ENGAGEMENT_INACTIVE_CARD",
          "PUMPKIN_PAYMENT_NOTIFICATION",
          "REENGAGEMENT_ACTIVE_FUNDS"
         ],
         "xaxis": "x4",
         "y": [
          8,
          42,
          22,
          32,
          12,
          22,
          4,
          123
         ],
         "yaxis": "y4"
        },
        {
         "alignmentgroup": "True",
         "hoverlabel": {
          "namelength": 0
         },
         "hovertemplate": "user_plan=METAL<br>channel=EMAIL<br>status=FAILED<br>reason=%{x}<br>total_notifications=%{y}",
         "legendgroup": "user_plan=METAL",
         "marker": {
          "color": "#636efa"
         },
         "name": "user_plan=METAL",
         "offsetgroup": "user_plan=METAL",
         "orientation": "v",
         "showlegend": false,
         "textposition": "auto",
         "type": "bar",
         "x": [
          "ENGAGEMENT_SPLIT_BILL_RESTAURANT",
          "FIFTH_PAYMENT_PROMO",
          "LOST_CARD_ORDER",
          "MADE_MONEY_REQUEST_NOT_SPLIT_BILL",
          "METAL_GAME_START",
          "NO_INITIAL_CARD_ORDER",
          "NO_INITIAL_CARD_USE",
          "NO_INITIAL_FREE_PROMOPAGE_CARD_ORDER",
          "ONBOARDING_TIPS_ACTIVATED_USERS"
         ],
         "xaxis": "x",
         "y": [
          6,
          23,
          11,
          7,
          4,
          9,
          22,
          3,
          4
         ],
         "yaxis": "y"
        },
        {
         "alignmentgroup": "True",
         "hoverlabel": {
          "namelength": 0
         },
         "hovertemplate": "user_plan=METAL<br>channel=EMAIL<br>status=SENT<br>reason=%{x}<br>total_notifications=%{y}",
         "legendgroup": "user_plan=METAL",
         "marker": {
          "color": "#636efa"
         },
         "name": "user_plan=METAL",
         "offsetgroup": "user_plan=METAL",
         "orientation": "v",
         "showlegend": false,
         "textposition": "auto",
         "type": "bar",
         "x": [
          "ENGAGEMENT_SPLIT_BILL_RESTAURANT",
          "FIFTH_PAYMENT_PROMO",
          "LOST_CARD_ORDER",
          "MADE_MONEY_REQUEST_NOT_SPLIT_BILL",
          "METAL_GAME_START",
          "NO_INITIAL_CARD_ORDER",
          "NO_INITIAL_CARD_USE",
          "NO_INITIAL_FREE_PROMOPAGE_CARD_ORDER",
          "ONBOARDING_TIPS_ACTIVATED_USERS",
          "WELCOME_HOME"
         ],
         "xaxis": "x2",
         "y": [
          39,
          76,
          25,
          18,
          6,
          57,
          46,
          24,
          69,
          2
         ],
         "yaxis": "y2"
        },
        {
         "alignmentgroup": "True",
         "hoverlabel": {
          "namelength": 0
         },
         "hovertemplate": "user_plan=STANDARD<br>channel=PUSH<br>status=FAILED<br>reason=%{x}<br>total_notifications=%{y}",
         "legendgroup": "user_plan=STANDARD",
         "marker": {
          "color": "#EF553B"
         },
         "name": "user_plan=STANDARD",
         "offsetgroup": "user_plan=STANDARD",
         "orientation": "v",
         "showlegend": true,
         "textposition": "auto",
         "type": "bar",
         "x": [
          "BLACK_FRIDAY",
          "FIFTH_PAYMENT_PROMO",
          "JOINING_ANNIVERSARY",
          "LOST_CARD_ORDER",
          "METAL_RESERVE_PLAN",
          "PREMIUM_ENGAGEMENT_FEES_SAVED",
          "PREMIUM_ENGAGEMENT_INACTIVE_CARD",
          "PUMPKIN_PAYMENT_NOTIFICATION",
          "REENGAGEMENT_ACTIVE_FUNDS"
         ],
         "xaxis": "x3",
         "y": [
          85,
          833,
          189,
          220,
          94,
          3,
          9,
          31,
          1379
         ],
         "yaxis": "y3"
        },
        {
         "alignmentgroup": "True",
         "hoverlabel": {
          "namelength": 0
         },
         "hovertemplate": "user_plan=STANDARD<br>channel=PUSH<br>status=SENT<br>reason=%{x}<br>total_notifications=%{y}",
         "legendgroup": "user_plan=STANDARD",
         "marker": {
          "color": "#EF553B"
         },
         "name": "user_plan=STANDARD",
         "offsetgroup": "user_plan=STANDARD",
         "orientation": "v",
         "showlegend": false,
         "textposition": "auto",
         "type": "bar",
         "x": [
          "BLACK_FRIDAY",
          "FIFTH_PAYMENT_PROMO",
          "JOINING_ANNIVERSARY",
          "LOST_CARD_ORDER",
          "PREMIUM_ENGAGEMENT_FEES_SAVED",
          "PREMIUM_ENGAGEMENT_INACTIVE_CARD",
          "PUMPKIN_PAYMENT_NOTIFICATION",
          "REENGAGEMENT_ACTIVE_FUNDS"
         ],
         "xaxis": "x4",
         "y": [
          416,
          1694,
          830,
          676,
          8,
          66,
          120,
          6586
         ],
         "yaxis": "y4"
        },
        {
         "alignmentgroup": "True",
         "hoverlabel": {
          "namelength": 0
         },
         "hovertemplate": "user_plan=STANDARD<br>channel=EMAIL<br>status=FAILED<br>reason=%{x}<br>total_notifications=%{y}",
         "legendgroup": "user_plan=STANDARD",
         "marker": {
          "color": "#EF553B"
         },
         "name": "user_plan=STANDARD",
         "offsetgroup": "user_plan=STANDARD",
         "orientation": "v",
         "showlegend": false,
         "textposition": "auto",
         "type": "bar",
         "x": [
          "ENGAGEMENT_SPLIT_BILL_RESTAURANT",
          "FIFTH_PAYMENT_PROMO",
          "LOST_CARD_ORDER",
          "MADE_MONEY_REQUEST_NOT_SPLIT_BILL",
          "METAL_GAME_START",
          "NO_INITIAL_CARD_ORDER",
          "NO_INITIAL_CARD_USE",
          "NO_INITIAL_FREE_PROMOPAGE_CARD_ORDER",
          "ONBOARDING_TIPS_ACTIVATED_USERS",
          "WELCOME_HOME"
         ],
         "xaxis": "x",
         "y": [
          161,
          754,
          171,
          384,
          358,
          628,
          1319,
          227,
          63,
          56
         ],
         "yaxis": "y"
        },
        {
         "alignmentgroup": "True",
         "hoverlabel": {
          "namelength": 0
         },
         "hovertemplate": "user_plan=STANDARD<br>channel=EMAIL<br>status=SENT<br>reason=%{x}<br>total_notifications=%{y}",
         "legendgroup": "user_plan=STANDARD",
         "marker": {
          "color": "#EF553B"
         },
         "name": "user_plan=STANDARD",
         "offsetgroup": "user_plan=STANDARD",
         "orientation": "v",
         "showlegend": false,
         "textposition": "auto",
         "type": "bar",
         "x": [
          "ENGAGEMENT_SPLIT_BILL_RESTAURANT",
          "FIFTH_PAYMENT_PROMO",
          "LOST_CARD_ORDER",
          "MADE_MONEY_REQUEST_NOT_SPLIT_BILL",
          "METAL_GAME_START",
          "NO_INITIAL_CARD_ORDER",
          "NO_INITIAL_CARD_USE",
          "NO_INITIAL_FREE_PROMOPAGE_CARD_ORDER",
          "ONBOARDING_TIPS_ACTIVATED_USERS",
          "WELCOME_HOME"
         ],
         "xaxis": "x2",
         "y": [
          299,
          2237,
          332,
          361,
          1629,
          1885,
          1239,
          1121,
          487,
          171
         ],
         "yaxis": "y2"
        },
        {
         "alignmentgroup": "True",
         "hoverlabel": {
          "namelength": 0
         },
         "hovertemplate": "user_plan=METAL_FREE<br>channel=PUSH<br>status=FAILED<br>reason=%{x}<br>total_notifications=%{y}",
         "legendgroup": "user_plan=METAL_FREE",
         "marker": {
          "color": "#00cc96"
         },
         "name": "user_plan=METAL_FREE",
         "offsetgroup": "user_plan=METAL_FREE",
         "orientation": "v",
         "showlegend": true,
         "textposition": "auto",
         "type": "bar",
         "x": [
          "LOST_CARD_ORDER",
          "REENGAGEMENT_ACTIVE_FUNDS"
         ],
         "xaxis": "x3",
         "y": [
          2,
          3
         ],
         "yaxis": "y3"
        },
        {
         "alignmentgroup": "True",
         "hoverlabel": {
          "namelength": 0
         },
         "hovertemplate": "user_plan=METAL_FREE<br>channel=PUSH<br>status=SENT<br>reason=%{x}<br>total_notifications=%{y}",
         "legendgroup": "user_plan=METAL_FREE",
         "marker": {
          "color": "#00cc96"
         },
         "name": "user_plan=METAL_FREE",
         "offsetgroup": "user_plan=METAL_FREE",
         "orientation": "v",
         "showlegend": false,
         "textposition": "auto",
         "type": "bar",
         "x": [
          "BLACK_FRIDAY",
          "FIFTH_PAYMENT_PROMO",
          "JOINING_ANNIVERSARY",
          "LOST_CARD_ORDER",
          "REENGAGEMENT_ACTIVE_FUNDS"
         ],
         "xaxis": "x4",
         "y": [
          2,
          4,
          1,
          1,
          13
         ],
         "yaxis": "y4"
        },
        {
         "alignmentgroup": "True",
         "hoverlabel": {
          "namelength": 0
         },
         "hovertemplate": "user_plan=METAL_FREE<br>channel=EMAIL<br>status=FAILED<br>reason=%{x}<br>total_notifications=%{y}",
         "legendgroup": "user_plan=METAL_FREE",
         "marker": {
          "color": "#00cc96"
         },
         "name": "user_plan=METAL_FREE",
         "offsetgroup": "user_plan=METAL_FREE",
         "orientation": "v",
         "showlegend": false,
         "textposition": "auto",
         "type": "bar",
         "x": [
          "FIFTH_PAYMENT_PROMO",
          "LOST_CARD_ORDER",
          "MADE_MONEY_REQUEST_NOT_SPLIT_BILL",
          "METAL_GAME_START",
          "NO_INITIAL_CARD_USE",
          "NO_INITIAL_FREE_PROMOPAGE_CARD_ORDER"
         ],
         "xaxis": "x",
         "y": [
          2,
          2,
          7,
          2,
          1,
          4
         ],
         "yaxis": "y"
        },
        {
         "alignmentgroup": "True",
         "hoverlabel": {
          "namelength": 0
         },
         "hovertemplate": "user_plan=METAL_FREE<br>channel=EMAIL<br>status=SENT<br>reason=%{x}<br>total_notifications=%{y}",
         "legendgroup": "user_plan=METAL_FREE",
         "marker": {
          "color": "#00cc96"
         },
         "name": "user_plan=METAL_FREE",
         "offsetgroup": "user_plan=METAL_FREE",
         "orientation": "v",
         "showlegend": false,
         "textposition": "auto",
         "type": "bar",
         "x": [
          "ENGAGEMENT_SPLIT_BILL_RESTAURANT",
          "FIFTH_PAYMENT_PROMO",
          "MADE_MONEY_REQUEST_NOT_SPLIT_BILL",
          "METAL_GAME_START",
          "NO_INITIAL_CARD_ORDER",
          "NO_INITIAL_CARD_USE",
          "NO_INITIAL_FREE_PROMOPAGE_CARD_ORDER",
          "ONBOARDING_TIPS_ACTIVATED_USERS",
          "WELCOME_HOME"
         ],
         "xaxis": "x2",
         "y": [
          2,
          4,
          5,
          4,
          4,
          1,
          2,
          1,
          1
         ],
         "yaxis": "y2"
        },
        {
         "alignmentgroup": "True",
         "hoverlabel": {
          "namelength": 0
         },
         "hovertemplate": "user_plan=PREMIUM<br>channel=PUSH<br>status=FAILED<br>reason=%{x}<br>total_notifications=%{y}",
         "legendgroup": "user_plan=PREMIUM",
         "marker": {
          "color": "#ab63fa"
         },
         "name": "user_plan=PREMIUM",
         "offsetgroup": "user_plan=PREMIUM",
         "orientation": "v",
         "showlegend": true,
         "textposition": "auto",
         "type": "bar",
         "x": [
          "FIFTH_PAYMENT_PROMO",
          "JOINING_ANNIVERSARY",
          "LOST_CARD_ORDER",
          "METAL_RESERVE_PLAN",
          "PREMIUM_ENGAGEMENT_FEES_SAVED",
          "PREMIUM_ENGAGEMENT_INACTIVE_CARD",
          "PUMPKIN_PAYMENT_NOTIFICATION",
          "REENGAGEMENT_ACTIVE_FUNDS"
         ],
         "xaxis": "x3",
         "y": [
          45,
          12,
          16,
          6,
          28,
          25,
          4,
          62
         ],
         "yaxis": "y3"
        },
        {
         "alignmentgroup": "True",
         "hoverlabel": {
          "namelength": 0
         },
         "hovertemplate": "user_plan=PREMIUM<br>channel=PUSH<br>status=SENT<br>reason=%{x}<br>total_notifications=%{y}",
         "legendgroup": "user_plan=PREMIUM",
         "marker": {
          "color": "#ab63fa"
         },
         "name": "user_plan=PREMIUM",
         "offsetgroup": "user_plan=PREMIUM",
         "orientation": "v",
         "showlegend": false,
         "textposition": "auto",
         "type": "bar",
         "x": [
          "BLACK_FRIDAY",
          "FIFTH_PAYMENT_PROMO",
          "JOINING_ANNIVERSARY",
          "LOST_CARD_ORDER",
          "PREMIUM_ENGAGEMENT_FEES_SAVED",
          "PREMIUM_ENGAGEMENT_INACTIVE_CARD",
          "PUMPKIN_PAYMENT_NOTIFICATION",
          "REENGAGEMENT_ACTIVE_FUNDS"
         ],
         "xaxis": "x4",
         "y": [
          3,
          92,
          44,
          26,
          112,
          168,
          6,
          337
         ],
         "yaxis": "y4"
        },
        {
         "alignmentgroup": "True",
         "hoverlabel": {
          "namelength": 0
         },
         "hovertemplate": "user_plan=PREMIUM<br>channel=EMAIL<br>status=FAILED<br>reason=%{x}<br>total_notifications=%{y}",
         "legendgroup": "user_plan=PREMIUM",
         "marker": {
          "color": "#ab63fa"
         },
         "name": "user_plan=PREMIUM",
         "offsetgroup": "user_plan=PREMIUM",
         "orientation": "v",
         "showlegend": false,
         "textposition": "auto",
         "type": "bar",
         "x": [
          "ENGAGEMENT_SPLIT_BILL_RESTAURANT",
          "FIFTH_PAYMENT_PROMO",
          "LOST_CARD_ORDER",
          "MADE_MONEY_REQUEST_NOT_SPLIT_BILL",
          "METAL_GAME_START",
          "NO_INITIAL_CARD_ORDER",
          "NO_INITIAL_CARD_USE",
          "NO_INITIAL_FREE_PROMOPAGE_CARD_ORDER",
          "ONBOARDING_TIPS_ACTIVATED_USERS",
          "WELCOME_HOME"
         ],
         "xaxis": "x",
         "y": [
          7,
          44,
          18,
          87,
          16,
          28,
          95,
          6,
          21,
          7
         ],
         "yaxis": "y"
        },
        {
         "alignmentgroup": "True",
         "hoverlabel": {
          "namelength": 0
         },
         "hovertemplate": "user_plan=PREMIUM<br>channel=EMAIL<br>status=SENT<br>reason=%{x}<br>total_notifications=%{y}",
         "legendgroup": "user_plan=PREMIUM",
         "marker": {
          "color": "#ab63fa"
         },
         "name": "user_plan=PREMIUM",
         "offsetgroup": "user_plan=PREMIUM",
         "orientation": "v",
         "showlegend": false,
         "textposition": "auto",
         "type": "bar",
         "x": [
          "ENGAGEMENT_SPLIT_BILL_RESTAURANT",
          "FIFTH_PAYMENT_PROMO",
          "LOST_CARD_ORDER",
          "MADE_MONEY_REQUEST_NOT_SPLIT_BILL",
          "METAL_GAME_START",
          "NO_INITIAL_CARD_ORDER",
          "NO_INITIAL_CARD_USE",
          "NO_INITIAL_FREE_PROMOPAGE_CARD_ORDER",
          "ONBOARDING_TIPS_ACTIVATED_USERS",
          "WELCOME_HOME"
         ],
         "xaxis": "x2",
         "y": [
          31,
          127,
          18,
          25,
          88,
          92,
          70,
          36,
          156,
          8
         ],
         "yaxis": "y2"
        },
        {
         "alignmentgroup": "True",
         "hoverlabel": {
          "namelength": 0
         },
         "hovertemplate": "user_plan=PREMIUM_OFFER<br>channel=PUSH<br>status=FAILED<br>reason=%{x}<br>total_notifications=%{y}",
         "legendgroup": "user_plan=PREMIUM_OFFER",
         "marker": {
          "color": "#FFA15A"
         },
         "name": "user_plan=PREMIUM_OFFER",
         "offsetgroup": "user_plan=PREMIUM_OFFER",
         "orientation": "v",
         "showlegend": true,
         "textposition": "auto",
         "type": "bar",
         "x": [
          "FIFTH_PAYMENT_PROMO",
          "LOST_CARD_ORDER",
          "REENGAGEMENT_ACTIVE_FUNDS"
         ],
         "xaxis": "x3",
         "y": [
          2,
          1,
          1
         ],
         "yaxis": "y3"
        },
        {
         "alignmentgroup": "True",
         "hoverlabel": {
          "namelength": 0
         },
         "hovertemplate": "user_plan=PREMIUM_OFFER<br>channel=PUSH<br>status=SENT<br>reason=%{x}<br>total_notifications=%{y}",
         "legendgroup": "user_plan=PREMIUM_OFFER",
         "marker": {
          "color": "#FFA15A"
         },
         "name": "user_plan=PREMIUM_OFFER",
         "offsetgroup": "user_plan=PREMIUM_OFFER",
         "orientation": "v",
         "showlegend": false,
         "textposition": "auto",
         "type": "bar",
         "x": [
          "BLACK_FRIDAY",
          "FIFTH_PAYMENT_PROMO",
          "JOINING_ANNIVERSARY",
          "LOST_CARD_ORDER",
          "REENGAGEMENT_ACTIVE_FUNDS"
         ],
         "xaxis": "x4",
         "y": [
          2,
          2,
          2,
          2,
          4
         ],
         "yaxis": "y4"
        },
        {
         "alignmentgroup": "True",
         "hoverlabel": {
          "namelength": 0
         },
         "hovertemplate": "user_plan=PREMIUM_OFFER<br>channel=EMAIL<br>status=FAILED<br>reason=%{x}<br>total_notifications=%{y}",
         "legendgroup": "user_plan=PREMIUM_OFFER",
         "marker": {
          "color": "#FFA15A"
         },
         "name": "user_plan=PREMIUM_OFFER",
         "offsetgroup": "user_plan=PREMIUM_OFFER",
         "orientation": "v",
         "showlegend": false,
         "textposition": "auto",
         "type": "bar",
         "x": [
          "FIFTH_PAYMENT_PROMO",
          "METAL_GAME_START",
          "NO_INITIAL_CARD_ORDER",
          "NO_INITIAL_CARD_USE"
         ],
         "xaxis": "x",
         "y": [
          4,
          1,
          1,
          1
         ],
         "yaxis": "y"
        },
        {
         "alignmentgroup": "True",
         "hoverlabel": {
          "namelength": 0
         },
         "hovertemplate": "user_plan=PREMIUM_OFFER<br>channel=EMAIL<br>status=SENT<br>reason=%{x}<br>total_notifications=%{y}",
         "legendgroup": "user_plan=PREMIUM_OFFER",
         "marker": {
          "color": "#FFA15A"
         },
         "name": "user_plan=PREMIUM_OFFER",
         "offsetgroup": "user_plan=PREMIUM_OFFER",
         "orientation": "v",
         "showlegend": false,
         "textposition": "auto",
         "type": "bar",
         "x": [
          "ENGAGEMENT_SPLIT_BILL_RESTAURANT",
          "FIFTH_PAYMENT_PROMO",
          "MADE_MONEY_REQUEST_NOT_SPLIT_BILL",
          "METAL_GAME_START",
          "NO_INITIAL_CARD_ORDER",
          "NO_INITIAL_CARD_USE",
          "NO_INITIAL_FREE_PROMOPAGE_CARD_ORDER",
          "ONBOARDING_TIPS_ACTIVATED_USERS",
          "WELCOME_HOME"
         ],
         "xaxis": "x2",
         "y": [
          4,
          3,
          3,
          2,
          8,
          3,
          1,
          6,
          1
         ],
         "yaxis": "y2"
        },
        {
         "alignmentgroup": "True",
         "hoverlabel": {
          "namelength": 0
         },
         "hovertemplate": "user_plan=PREMIUM_FREE<br>channel=PUSH<br>status=SENT<br>reason=%{x}<br>total_notifications=%{y}",
         "legendgroup": "user_plan=PREMIUM_FREE",
         "marker": {
          "color": "#19d3f3"
         },
         "name": "user_plan=PREMIUM_FREE",
         "offsetgroup": "user_plan=PREMIUM_FREE",
         "orientation": "v",
         "showlegend": true,
         "textposition": "auto",
         "type": "bar",
         "x": [
          "LOST_CARD_ORDER",
          "REENGAGEMENT_ACTIVE_FUNDS"
         ],
         "xaxis": "x4",
         "y": [
          1,
          2
         ],
         "yaxis": "y4"
        },
        {
         "alignmentgroup": "True",
         "hoverlabel": {
          "namelength": 0
         },
         "hovertemplate": "user_plan=PREMIUM_FREE<br>channel=EMAIL<br>status=SENT<br>reason=%{x}<br>total_notifications=%{y}",
         "legendgroup": "user_plan=PREMIUM_FREE",
         "marker": {
          "color": "#19d3f3"
         },
         "name": "user_plan=PREMIUM_FREE",
         "offsetgroup": "user_plan=PREMIUM_FREE",
         "orientation": "v",
         "showlegend": false,
         "textposition": "auto",
         "type": "bar",
         "x": [
          "ENGAGEMENT_SPLIT_BILL_RESTAURANT",
          "LOST_CARD_ORDER",
          "NO_INITIAL_CARD_USE"
         ],
         "xaxis": "x2",
         "y": [
          1,
          1,
          1
         ],
         "yaxis": "y2"
        }
       ],
       "layout": {
        "annotations": [
         {
          "font": {},
          "showarrow": false,
          "text": "status=FAILED",
          "x": 0.24,
          "xanchor": "center",
          "xref": "paper",
          "y": 1,
          "yanchor": "bottom",
          "yref": "paper"
         },
         {
          "font": {},
          "showarrow": false,
          "text": "status=SENT",
          "x": 0.74,
          "xanchor": "center",
          "xref": "paper",
          "y": 1,
          "yanchor": "bottom",
          "yref": "paper"
         },
         {
          "font": {},
          "showarrow": false,
          "text": "channel=EMAIL",
          "textangle": 90,
          "x": 0.98,
          "xanchor": "left",
          "xref": "paper",
          "y": 0.2425,
          "yanchor": "middle",
          "yref": "paper"
         },
         {
          "font": {},
          "showarrow": false,
          "text": "channel=PUSH",
          "textangle": 90,
          "x": 0.98,
          "xanchor": "left",
          "xref": "paper",
          "y": 0.7575000000000001,
          "yanchor": "middle",
          "yref": "paper"
         }
        ],
        "barmode": "stack",
        "height": 600,
        "legend": {
         "tracegroupgap": 0
        },
        "margin": {
         "t": 60
        },
        "template": {
         "data": {
          "bar": [
           {
            "error_x": {
             "color": "#2a3f5f"
            },
            "error_y": {
             "color": "#2a3f5f"
            },
            "marker": {
             "line": {
              "color": "#E5ECF6",
              "width": 0.5
             }
            },
            "type": "bar"
           }
          ],
          "barpolar": [
           {
            "marker": {
             "line": {
              "color": "#E5ECF6",
              "width": 0.5
             }
            },
            "type": "barpolar"
           }
          ],
          "carpet": [
           {
            "aaxis": {
             "endlinecolor": "#2a3f5f",
             "gridcolor": "white",
             "linecolor": "white",
             "minorgridcolor": "white",
             "startlinecolor": "#2a3f5f"
            },
            "baxis": {
             "endlinecolor": "#2a3f5f",
             "gridcolor": "white",
             "linecolor": "white",
             "minorgridcolor": "white",
             "startlinecolor": "#2a3f5f"
            },
            "type": "carpet"
           }
          ],
          "choropleth": [
           {
            "colorbar": {
             "outlinewidth": 0,
             "ticks": ""
            },
            "type": "choropleth"
           }
          ],
          "contour": [
           {
            "colorbar": {
             "outlinewidth": 0,
             "ticks": ""
            },
            "colorscale": [
             [
              0,
              "#0d0887"
             ],
             [
              0.1111111111111111,
              "#46039f"
             ],
             [
              0.2222222222222222,
              "#7201a8"
             ],
             [
              0.3333333333333333,
              "#9c179e"
             ],
             [
              0.4444444444444444,
              "#bd3786"
             ],
             [
              0.5555555555555556,
              "#d8576b"
             ],
             [
              0.6666666666666666,
              "#ed7953"
             ],
             [
              0.7777777777777778,
              "#fb9f3a"
             ],
             [
              0.8888888888888888,
              "#fdca26"
             ],
             [
              1,
              "#f0f921"
             ]
            ],
            "type": "contour"
           }
          ],
          "contourcarpet": [
           {
            "colorbar": {
             "outlinewidth": 0,
             "ticks": ""
            },
            "type": "contourcarpet"
           }
          ],
          "heatmap": [
           {
            "colorbar": {
             "outlinewidth": 0,
             "ticks": ""
            },
            "colorscale": [
             [
              0,
              "#0d0887"
             ],
             [
              0.1111111111111111,
              "#46039f"
             ],
             [
              0.2222222222222222,
              "#7201a8"
             ],
             [
              0.3333333333333333,
              "#9c179e"
             ],
             [
              0.4444444444444444,
              "#bd3786"
             ],
             [
              0.5555555555555556,
              "#d8576b"
             ],
             [
              0.6666666666666666,
              "#ed7953"
             ],
             [
              0.7777777777777778,
              "#fb9f3a"
             ],
             [
              0.8888888888888888,
              "#fdca26"
             ],
             [
              1,
              "#f0f921"
             ]
            ],
            "type": "heatmap"
           }
          ],
          "heatmapgl": [
           {
            "colorbar": {
             "outlinewidth": 0,
             "ticks": ""
            },
            "colorscale": [
             [
              0,
              "#0d0887"
             ],
             [
              0.1111111111111111,
              "#46039f"
             ],
             [
              0.2222222222222222,
              "#7201a8"
             ],
             [
              0.3333333333333333,
              "#9c179e"
             ],
             [
              0.4444444444444444,
              "#bd3786"
             ],
             [
              0.5555555555555556,
              "#d8576b"
             ],
             [
              0.6666666666666666,
              "#ed7953"
             ],
             [
              0.7777777777777778,
              "#fb9f3a"
             ],
             [
              0.8888888888888888,
              "#fdca26"
             ],
             [
              1,
              "#f0f921"
             ]
            ],
            "type": "heatmapgl"
           }
          ],
          "histogram": [
           {
            "marker": {
             "colorbar": {
              "outlinewidth": 0,
              "ticks": ""
             }
            },
            "type": "histogram"
           }
          ],
          "histogram2d": [
           {
            "colorbar": {
             "outlinewidth": 0,
             "ticks": ""
            },
            "colorscale": [
             [
              0,
              "#0d0887"
             ],
             [
              0.1111111111111111,
              "#46039f"
             ],
             [
              0.2222222222222222,
              "#7201a8"
             ],
             [
              0.3333333333333333,
              "#9c179e"
             ],
             [
              0.4444444444444444,
              "#bd3786"
             ],
             [
              0.5555555555555556,
              "#d8576b"
             ],
             [
              0.6666666666666666,
              "#ed7953"
             ],
             [
              0.7777777777777778,
              "#fb9f3a"
             ],
             [
              0.8888888888888888,
              "#fdca26"
             ],
             [
              1,
              "#f0f921"
             ]
            ],
            "type": "histogram2d"
           }
          ],
          "histogram2dcontour": [
           {
            "colorbar": {
             "outlinewidth": 0,
             "ticks": ""
            },
            "colorscale": [
             [
              0,
              "#0d0887"
             ],
             [
              0.1111111111111111,
              "#46039f"
             ],
             [
              0.2222222222222222,
              "#7201a8"
             ],
             [
              0.3333333333333333,
              "#9c179e"
             ],
             [
              0.4444444444444444,
              "#bd3786"
             ],
             [
              0.5555555555555556,
              "#d8576b"
             ],
             [
              0.6666666666666666,
              "#ed7953"
             ],
             [
              0.7777777777777778,
              "#fb9f3a"
             ],
             [
              0.8888888888888888,
              "#fdca26"
             ],
             [
              1,
              "#f0f921"
             ]
            ],
            "type": "histogram2dcontour"
           }
          ],
          "mesh3d": [
           {
            "colorbar": {
             "outlinewidth": 0,
             "ticks": ""
            },
            "type": "mesh3d"
           }
          ],
          "parcoords": [
           {
            "line": {
             "colorbar": {
              "outlinewidth": 0,
              "ticks": ""
             }
            },
            "type": "parcoords"
           }
          ],
          "scatter": [
           {
            "marker": {
             "colorbar": {
              "outlinewidth": 0,
              "ticks": ""
             }
            },
            "type": "scatter"
           }
          ],
          "scatter3d": [
           {
            "line": {
             "colorbar": {
              "outlinewidth": 0,
              "ticks": ""
             }
            },
            "marker": {
             "colorbar": {
              "outlinewidth": 0,
              "ticks": ""
             }
            },
            "type": "scatter3d"
           }
          ],
          "scattercarpet": [
           {
            "marker": {
             "colorbar": {
              "outlinewidth": 0,
              "ticks": ""
             }
            },
            "type": "scattercarpet"
           }
          ],
          "scattergeo": [
           {
            "marker": {
             "colorbar": {
              "outlinewidth": 0,
              "ticks": ""
             }
            },
            "type": "scattergeo"
           }
          ],
          "scattergl": [
           {
            "marker": {
             "colorbar": {
              "outlinewidth": 0,
              "ticks": ""
             }
            },
            "type": "scattergl"
           }
          ],
          "scattermapbox": [
           {
            "marker": {
             "colorbar": {
              "outlinewidth": 0,
              "ticks": ""
             }
            },
            "type": "scattermapbox"
           }
          ],
          "scatterpolar": [
           {
            "marker": {
             "colorbar": {
              "outlinewidth": 0,
              "ticks": ""
             }
            },
            "type": "scatterpolar"
           }
          ],
          "scatterpolargl": [
           {
            "marker": {
             "colorbar": {
              "outlinewidth": 0,
              "ticks": ""
             }
            },
            "type": "scatterpolargl"
           }
          ],
          "scatterternary": [
           {
            "marker": {
             "colorbar": {
              "outlinewidth": 0,
              "ticks": ""
             }
            },
            "type": "scatterternary"
           }
          ],
          "surface": [
           {
            "colorbar": {
             "outlinewidth": 0,
             "ticks": ""
            },
            "colorscale": [
             [
              0,
              "#0d0887"
             ],
             [
              0.1111111111111111,
              "#46039f"
             ],
             [
              0.2222222222222222,
              "#7201a8"
             ],
             [
              0.3333333333333333,
              "#9c179e"
             ],
             [
              0.4444444444444444,
              "#bd3786"
             ],
             [
              0.5555555555555556,
              "#d8576b"
             ],
             [
              0.6666666666666666,
              "#ed7953"
             ],
             [
              0.7777777777777778,
              "#fb9f3a"
             ],
             [
              0.8888888888888888,
              "#fdca26"
             ],
             [
              1,
              "#f0f921"
             ]
            ],
            "type": "surface"
           }
          ],
          "table": [
           {
            "cells": {
             "fill": {
              "color": "#EBF0F8"
             },
             "line": {
              "color": "white"
             }
            },
            "header": {
             "fill": {
              "color": "#C8D4E3"
             },
             "line": {
              "color": "white"
             }
            },
            "type": "table"
           }
          ]
         },
         "layout": {
          "annotationdefaults": {
           "arrowcolor": "#2a3f5f",
           "arrowhead": 0,
           "arrowwidth": 1
          },
          "colorscale": {
           "diverging": [
            [
             0,
             "#8e0152"
            ],
            [
             0.1,
             "#c51b7d"
            ],
            [
             0.2,
             "#de77ae"
            ],
            [
             0.3,
             "#f1b6da"
            ],
            [
             0.4,
             "#fde0ef"
            ],
            [
             0.5,
             "#f7f7f7"
            ],
            [
             0.6,
             "#e6f5d0"
            ],
            [
             0.7,
             "#b8e186"
            ],
            [
             0.8,
             "#7fbc41"
            ],
            [
             0.9,
             "#4d9221"
            ],
            [
             1,
             "#276419"
            ]
           ],
           "sequential": [
            [
             0,
             "#0d0887"
            ],
            [
             0.1111111111111111,
             "#46039f"
            ],
            [
             0.2222222222222222,
             "#7201a8"
            ],
            [
             0.3333333333333333,
             "#9c179e"
            ],
            [
             0.4444444444444444,
             "#bd3786"
            ],
            [
             0.5555555555555556,
             "#d8576b"
            ],
            [
             0.6666666666666666,
             "#ed7953"
            ],
            [
             0.7777777777777778,
             "#fb9f3a"
            ],
            [
             0.8888888888888888,
             "#fdca26"
            ],
            [
             1,
             "#f0f921"
            ]
           ],
           "sequentialminus": [
            [
             0,
             "#0d0887"
            ],
            [
             0.1111111111111111,
             "#46039f"
            ],
            [
             0.2222222222222222,
             "#7201a8"
            ],
            [
             0.3333333333333333,
             "#9c179e"
            ],
            [
             0.4444444444444444,
             "#bd3786"
            ],
            [
             0.5555555555555556,
             "#d8576b"
            ],
            [
             0.6666666666666666,
             "#ed7953"
            ],
            [
             0.7777777777777778,
             "#fb9f3a"
            ],
            [
             0.8888888888888888,
             "#fdca26"
            ],
            [
             1,
             "#f0f921"
            ]
           ]
          },
          "colorway": [
           "#636efa",
           "#EF553B",
           "#00cc96",
           "#ab63fa",
           "#FFA15A",
           "#19d3f3",
           "#FF6692",
           "#B6E880",
           "#FF97FF",
           "#FECB52"
          ],
          "font": {
           "color": "#2a3f5f"
          },
          "geo": {
           "bgcolor": "white",
           "lakecolor": "white",
           "landcolor": "#E5ECF6",
           "showlakes": true,
           "showland": true,
           "subunitcolor": "white"
          },
          "hoverlabel": {
           "align": "left"
          },
          "hovermode": "closest",
          "mapbox": {
           "style": "light"
          },
          "paper_bgcolor": "white",
          "plot_bgcolor": "#E5ECF6",
          "polar": {
           "angularaxis": {
            "gridcolor": "white",
            "linecolor": "white",
            "ticks": ""
           },
           "bgcolor": "#E5ECF6",
           "radialaxis": {
            "gridcolor": "white",
            "linecolor": "white",
            "ticks": ""
           }
          },
          "scene": {
           "xaxis": {
            "backgroundcolor": "#E5ECF6",
            "gridcolor": "white",
            "gridwidth": 2,
            "linecolor": "white",
            "showbackground": true,
            "ticks": "",
            "zerolinecolor": "white"
           },
           "yaxis": {
            "backgroundcolor": "#E5ECF6",
            "gridcolor": "white",
            "gridwidth": 2,
            "linecolor": "white",
            "showbackground": true,
            "ticks": "",
            "zerolinecolor": "white"
           },
           "zaxis": {
            "backgroundcolor": "#E5ECF6",
            "gridcolor": "white",
            "gridwidth": 2,
            "linecolor": "white",
            "showbackground": true,
            "ticks": "",
            "zerolinecolor": "white"
           }
          },
          "shapedefaults": {
           "line": {
            "color": "#2a3f5f"
           }
          },
          "ternary": {
           "aaxis": {
            "gridcolor": "white",
            "linecolor": "white",
            "ticks": ""
           },
           "baxis": {
            "gridcolor": "white",
            "linecolor": "white",
            "ticks": ""
           },
           "bgcolor": "#E5ECF6",
           "caxis": {
            "gridcolor": "white",
            "linecolor": "white",
            "ticks": ""
           }
          },
          "title": {
           "x": 0.05
          },
          "xaxis": {
           "automargin": true,
           "gridcolor": "white",
           "linecolor": "white",
           "ticks": "",
           "zerolinecolor": "white",
           "zerolinewidth": 2
          },
          "yaxis": {
           "automargin": true,
           "gridcolor": "white",
           "linecolor": "white",
           "ticks": "",
           "zerolinecolor": "white",
           "zerolinewidth": 2
          }
         }
        },
        "xaxis": {
         "anchor": "y",
         "domain": [
          0,
          0.48
         ],
         "title": {
          "text": "reason"
         }
        },
        "xaxis2": {
         "anchor": "y2",
         "domain": [
          0.5,
          0.98
         ],
         "matches": "x",
         "title": {
          "text": "reason"
         }
        },
        "xaxis3": {
         "anchor": "y3",
         "domain": [
          0,
          0.48
         ],
         "matches": "x",
         "showticklabels": false
        },
        "xaxis4": {
         "anchor": "y4",
         "domain": [
          0.5,
          0.98
         ],
         "matches": "x",
         "showticklabels": false
        },
        "yaxis": {
         "anchor": "x",
         "domain": [
          0,
          0.485
         ],
         "title": {
          "text": "total_notifications"
         }
        },
        "yaxis2": {
         "anchor": "x2",
         "domain": [
          0,
          0.485
         ],
         "matches": "y",
         "showticklabels": false
        },
        "yaxis3": {
         "anchor": "x3",
         "domain": [
          0.515,
          1
         ],
         "matches": "y",
         "title": {
          "text": "total_notifications"
         }
        },
        "yaxis4": {
         "anchor": "x4",
         "domain": [
          0.515,
          1
         ],
         "matches": "y",
         "showticklabels": false
        }
       }
      },
      "text/html": [
       "<div>\n",
       "        \n",
       "        \n",
       "            <div id=\"261e2866-f079-4a81-ac88-ce9be9907e4d\" class=\"plotly-graph-div\" style=\"height:600px; width:100%;\"></div>\n",
       "            <script type=\"text/javascript\">\n",
       "                require([\"plotly\"], function(Plotly) {\n",
       "                    window.PLOTLYENV=window.PLOTLYENV || {};\n",
       "                    \n",
       "                if (document.getElementById(\"261e2866-f079-4a81-ac88-ce9be9907e4d\")) {\n",
       "                    Plotly.newPlot(\n",
       "                        '261e2866-f079-4a81-ac88-ce9be9907e4d',\n",
       "                        [{\"alignmentgroup\": \"True\", \"hoverlabel\": {\"namelength\": 0}, \"hovertemplate\": \"user_plan=METAL<br>channel=PUSH<br>status=FAILED<br>reason=%{x}<br>total_notifications=%{y}\", \"legendgroup\": \"user_plan=METAL\", \"marker\": {\"color\": \"#636efa\"}, \"name\": \"user_plan=METAL\", \"offsetgroup\": \"user_plan=METAL\", \"orientation\": \"v\", \"showlegend\": true, \"textposition\": \"auto\", \"type\": \"bar\", \"x\": [\"BLACK_FRIDAY\", \"FIFTH_PAYMENT_PROMO\", \"JOINING_ANNIVERSARY\", \"LOST_CARD_ORDER\", \"METAL_RESERVE_PLAN\", \"PREMIUM_ENGAGEMENT_FEES_SAVED\", \"PREMIUM_ENGAGEMENT_INACTIVE_CARD\", \"PUMPKIN_PAYMENT_NOTIFICATION\", \"REENGAGEMENT_ACTIVE_FUNDS\"], \"xaxis\": \"x3\", \"y\": [1, 22, 3, 14, 1, 4, 3, 1, 20], \"yaxis\": \"y3\"}, {\"alignmentgroup\": \"True\", \"hoverlabel\": {\"namelength\": 0}, \"hovertemplate\": \"user_plan=METAL<br>channel=PUSH<br>status=SENT<br>reason=%{x}<br>total_notifications=%{y}\", \"legendgroup\": \"user_plan=METAL\", \"marker\": {\"color\": \"#636efa\"}, \"name\": \"user_plan=METAL\", \"offsetgroup\": \"user_plan=METAL\", \"orientation\": \"v\", \"showlegend\": false, \"textposition\": \"auto\", \"type\": \"bar\", \"x\": [\"BLACK_FRIDAY\", \"FIFTH_PAYMENT_PROMO\", \"JOINING_ANNIVERSARY\", \"LOST_CARD_ORDER\", \"PREMIUM_ENGAGEMENT_FEES_SAVED\", \"PREMIUM_ENGAGEMENT_INACTIVE_CARD\", \"PUMPKIN_PAYMENT_NOTIFICATION\", \"REENGAGEMENT_ACTIVE_FUNDS\"], \"xaxis\": \"x4\", \"y\": [8, 42, 22, 32, 12, 22, 4, 123], \"yaxis\": \"y4\"}, {\"alignmentgroup\": \"True\", \"hoverlabel\": {\"namelength\": 0}, \"hovertemplate\": \"user_plan=METAL<br>channel=EMAIL<br>status=FAILED<br>reason=%{x}<br>total_notifications=%{y}\", \"legendgroup\": \"user_plan=METAL\", \"marker\": {\"color\": \"#636efa\"}, \"name\": \"user_plan=METAL\", \"offsetgroup\": \"user_plan=METAL\", \"orientation\": \"v\", \"showlegend\": false, \"textposition\": \"auto\", \"type\": \"bar\", \"x\": [\"ENGAGEMENT_SPLIT_BILL_RESTAURANT\", \"FIFTH_PAYMENT_PROMO\", \"LOST_CARD_ORDER\", \"MADE_MONEY_REQUEST_NOT_SPLIT_BILL\", \"METAL_GAME_START\", \"NO_INITIAL_CARD_ORDER\", \"NO_INITIAL_CARD_USE\", \"NO_INITIAL_FREE_PROMOPAGE_CARD_ORDER\", \"ONBOARDING_TIPS_ACTIVATED_USERS\"], \"xaxis\": \"x\", \"y\": [6, 23, 11, 7, 4, 9, 22, 3, 4], \"yaxis\": \"y\"}, {\"alignmentgroup\": \"True\", \"hoverlabel\": {\"namelength\": 0}, \"hovertemplate\": \"user_plan=METAL<br>channel=EMAIL<br>status=SENT<br>reason=%{x}<br>total_notifications=%{y}\", \"legendgroup\": \"user_plan=METAL\", \"marker\": {\"color\": \"#636efa\"}, \"name\": \"user_plan=METAL\", \"offsetgroup\": \"user_plan=METAL\", \"orientation\": \"v\", \"showlegend\": false, \"textposition\": \"auto\", \"type\": \"bar\", \"x\": [\"ENGAGEMENT_SPLIT_BILL_RESTAURANT\", \"FIFTH_PAYMENT_PROMO\", \"LOST_CARD_ORDER\", \"MADE_MONEY_REQUEST_NOT_SPLIT_BILL\", \"METAL_GAME_START\", \"NO_INITIAL_CARD_ORDER\", \"NO_INITIAL_CARD_USE\", \"NO_INITIAL_FREE_PROMOPAGE_CARD_ORDER\", \"ONBOARDING_TIPS_ACTIVATED_USERS\", \"WELCOME_HOME\"], \"xaxis\": \"x2\", \"y\": [39, 76, 25, 18, 6, 57, 46, 24, 69, 2], \"yaxis\": \"y2\"}, {\"alignmentgroup\": \"True\", \"hoverlabel\": {\"namelength\": 0}, \"hovertemplate\": \"user_plan=STANDARD<br>channel=PUSH<br>status=FAILED<br>reason=%{x}<br>total_notifications=%{y}\", \"legendgroup\": \"user_plan=STANDARD\", \"marker\": {\"color\": \"#EF553B\"}, \"name\": \"user_plan=STANDARD\", \"offsetgroup\": \"user_plan=STANDARD\", \"orientation\": \"v\", \"showlegend\": true, \"textposition\": \"auto\", \"type\": \"bar\", \"x\": [\"BLACK_FRIDAY\", \"FIFTH_PAYMENT_PROMO\", \"JOINING_ANNIVERSARY\", \"LOST_CARD_ORDER\", \"METAL_RESERVE_PLAN\", \"PREMIUM_ENGAGEMENT_FEES_SAVED\", \"PREMIUM_ENGAGEMENT_INACTIVE_CARD\", \"PUMPKIN_PAYMENT_NOTIFICATION\", \"REENGAGEMENT_ACTIVE_FUNDS\"], \"xaxis\": \"x3\", \"y\": [85, 833, 189, 220, 94, 3, 9, 31, 1379], \"yaxis\": \"y3\"}, {\"alignmentgroup\": \"True\", \"hoverlabel\": {\"namelength\": 0}, \"hovertemplate\": \"user_plan=STANDARD<br>channel=PUSH<br>status=SENT<br>reason=%{x}<br>total_notifications=%{y}\", \"legendgroup\": \"user_plan=STANDARD\", \"marker\": {\"color\": \"#EF553B\"}, \"name\": \"user_plan=STANDARD\", \"offsetgroup\": \"user_plan=STANDARD\", \"orientation\": \"v\", \"showlegend\": false, \"textposition\": \"auto\", \"type\": \"bar\", \"x\": [\"BLACK_FRIDAY\", \"FIFTH_PAYMENT_PROMO\", \"JOINING_ANNIVERSARY\", \"LOST_CARD_ORDER\", \"PREMIUM_ENGAGEMENT_FEES_SAVED\", \"PREMIUM_ENGAGEMENT_INACTIVE_CARD\", \"PUMPKIN_PAYMENT_NOTIFICATION\", \"REENGAGEMENT_ACTIVE_FUNDS\"], \"xaxis\": \"x4\", \"y\": [416, 1694, 830, 676, 8, 66, 120, 6586], \"yaxis\": \"y4\"}, {\"alignmentgroup\": \"True\", \"hoverlabel\": {\"namelength\": 0}, \"hovertemplate\": \"user_plan=STANDARD<br>channel=EMAIL<br>status=FAILED<br>reason=%{x}<br>total_notifications=%{y}\", \"legendgroup\": \"user_plan=STANDARD\", \"marker\": {\"color\": \"#EF553B\"}, \"name\": \"user_plan=STANDARD\", \"offsetgroup\": \"user_plan=STANDARD\", \"orientation\": \"v\", \"showlegend\": false, \"textposition\": \"auto\", \"type\": \"bar\", \"x\": [\"ENGAGEMENT_SPLIT_BILL_RESTAURANT\", \"FIFTH_PAYMENT_PROMO\", \"LOST_CARD_ORDER\", \"MADE_MONEY_REQUEST_NOT_SPLIT_BILL\", \"METAL_GAME_START\", \"NO_INITIAL_CARD_ORDER\", \"NO_INITIAL_CARD_USE\", \"NO_INITIAL_FREE_PROMOPAGE_CARD_ORDER\", \"ONBOARDING_TIPS_ACTIVATED_USERS\", \"WELCOME_HOME\"], \"xaxis\": \"x\", \"y\": [161, 754, 171, 384, 358, 628, 1319, 227, 63, 56], \"yaxis\": \"y\"}, {\"alignmentgroup\": \"True\", \"hoverlabel\": {\"namelength\": 0}, \"hovertemplate\": \"user_plan=STANDARD<br>channel=EMAIL<br>status=SENT<br>reason=%{x}<br>total_notifications=%{y}\", \"legendgroup\": \"user_plan=STANDARD\", \"marker\": {\"color\": \"#EF553B\"}, \"name\": \"user_plan=STANDARD\", \"offsetgroup\": \"user_plan=STANDARD\", \"orientation\": \"v\", \"showlegend\": false, \"textposition\": \"auto\", \"type\": \"bar\", \"x\": [\"ENGAGEMENT_SPLIT_BILL_RESTAURANT\", \"FIFTH_PAYMENT_PROMO\", \"LOST_CARD_ORDER\", \"MADE_MONEY_REQUEST_NOT_SPLIT_BILL\", \"METAL_GAME_START\", \"NO_INITIAL_CARD_ORDER\", \"NO_INITIAL_CARD_USE\", \"NO_INITIAL_FREE_PROMOPAGE_CARD_ORDER\", \"ONBOARDING_TIPS_ACTIVATED_USERS\", \"WELCOME_HOME\"], \"xaxis\": \"x2\", \"y\": [299, 2237, 332, 361, 1629, 1885, 1239, 1121, 487, 171], \"yaxis\": \"y2\"}, {\"alignmentgroup\": \"True\", \"hoverlabel\": {\"namelength\": 0}, \"hovertemplate\": \"user_plan=METAL_FREE<br>channel=PUSH<br>status=FAILED<br>reason=%{x}<br>total_notifications=%{y}\", \"legendgroup\": \"user_plan=METAL_FREE\", \"marker\": {\"color\": \"#00cc96\"}, \"name\": \"user_plan=METAL_FREE\", \"offsetgroup\": \"user_plan=METAL_FREE\", \"orientation\": \"v\", \"showlegend\": true, \"textposition\": \"auto\", \"type\": \"bar\", \"x\": [\"LOST_CARD_ORDER\", \"REENGAGEMENT_ACTIVE_FUNDS\"], \"xaxis\": \"x3\", \"y\": [2, 3], \"yaxis\": \"y3\"}, {\"alignmentgroup\": \"True\", \"hoverlabel\": {\"namelength\": 0}, \"hovertemplate\": \"user_plan=METAL_FREE<br>channel=PUSH<br>status=SENT<br>reason=%{x}<br>total_notifications=%{y}\", \"legendgroup\": \"user_plan=METAL_FREE\", \"marker\": {\"color\": \"#00cc96\"}, \"name\": \"user_plan=METAL_FREE\", \"offsetgroup\": \"user_plan=METAL_FREE\", \"orientation\": \"v\", \"showlegend\": false, \"textposition\": \"auto\", \"type\": \"bar\", \"x\": [\"BLACK_FRIDAY\", \"FIFTH_PAYMENT_PROMO\", \"JOINING_ANNIVERSARY\", \"LOST_CARD_ORDER\", \"REENGAGEMENT_ACTIVE_FUNDS\"], \"xaxis\": \"x4\", \"y\": [2, 4, 1, 1, 13], \"yaxis\": \"y4\"}, {\"alignmentgroup\": \"True\", \"hoverlabel\": {\"namelength\": 0}, \"hovertemplate\": \"user_plan=METAL_FREE<br>channel=EMAIL<br>status=FAILED<br>reason=%{x}<br>total_notifications=%{y}\", \"legendgroup\": \"user_plan=METAL_FREE\", \"marker\": {\"color\": \"#00cc96\"}, \"name\": \"user_plan=METAL_FREE\", \"offsetgroup\": \"user_plan=METAL_FREE\", \"orientation\": \"v\", \"showlegend\": false, \"textposition\": \"auto\", \"type\": \"bar\", \"x\": [\"FIFTH_PAYMENT_PROMO\", \"LOST_CARD_ORDER\", \"MADE_MONEY_REQUEST_NOT_SPLIT_BILL\", \"METAL_GAME_START\", \"NO_INITIAL_CARD_USE\", \"NO_INITIAL_FREE_PROMOPAGE_CARD_ORDER\"], \"xaxis\": \"x\", \"y\": [2, 2, 7, 2, 1, 4], \"yaxis\": \"y\"}, {\"alignmentgroup\": \"True\", \"hoverlabel\": {\"namelength\": 0}, \"hovertemplate\": \"user_plan=METAL_FREE<br>channel=EMAIL<br>status=SENT<br>reason=%{x}<br>total_notifications=%{y}\", \"legendgroup\": \"user_plan=METAL_FREE\", \"marker\": {\"color\": \"#00cc96\"}, \"name\": \"user_plan=METAL_FREE\", \"offsetgroup\": \"user_plan=METAL_FREE\", \"orientation\": \"v\", \"showlegend\": false, \"textposition\": \"auto\", \"type\": \"bar\", \"x\": [\"ENGAGEMENT_SPLIT_BILL_RESTAURANT\", \"FIFTH_PAYMENT_PROMO\", \"MADE_MONEY_REQUEST_NOT_SPLIT_BILL\", \"METAL_GAME_START\", \"NO_INITIAL_CARD_ORDER\", \"NO_INITIAL_CARD_USE\", \"NO_INITIAL_FREE_PROMOPAGE_CARD_ORDER\", \"ONBOARDING_TIPS_ACTIVATED_USERS\", \"WELCOME_HOME\"], \"xaxis\": \"x2\", \"y\": [2, 4, 5, 4, 4, 1, 2, 1, 1], \"yaxis\": \"y2\"}, {\"alignmentgroup\": \"True\", \"hoverlabel\": {\"namelength\": 0}, \"hovertemplate\": \"user_plan=PREMIUM<br>channel=PUSH<br>status=FAILED<br>reason=%{x}<br>total_notifications=%{y}\", \"legendgroup\": \"user_plan=PREMIUM\", \"marker\": {\"color\": \"#ab63fa\"}, \"name\": \"user_plan=PREMIUM\", \"offsetgroup\": \"user_plan=PREMIUM\", \"orientation\": \"v\", \"showlegend\": true, \"textposition\": \"auto\", \"type\": \"bar\", \"x\": [\"FIFTH_PAYMENT_PROMO\", \"JOINING_ANNIVERSARY\", \"LOST_CARD_ORDER\", \"METAL_RESERVE_PLAN\", \"PREMIUM_ENGAGEMENT_FEES_SAVED\", \"PREMIUM_ENGAGEMENT_INACTIVE_CARD\", \"PUMPKIN_PAYMENT_NOTIFICATION\", \"REENGAGEMENT_ACTIVE_FUNDS\"], \"xaxis\": \"x3\", \"y\": [45, 12, 16, 6, 28, 25, 4, 62], \"yaxis\": \"y3\"}, {\"alignmentgroup\": \"True\", \"hoverlabel\": {\"namelength\": 0}, \"hovertemplate\": \"user_plan=PREMIUM<br>channel=PUSH<br>status=SENT<br>reason=%{x}<br>total_notifications=%{y}\", \"legendgroup\": \"user_plan=PREMIUM\", \"marker\": {\"color\": \"#ab63fa\"}, \"name\": \"user_plan=PREMIUM\", \"offsetgroup\": \"user_plan=PREMIUM\", \"orientation\": \"v\", \"showlegend\": false, \"textposition\": \"auto\", \"type\": \"bar\", \"x\": [\"BLACK_FRIDAY\", \"FIFTH_PAYMENT_PROMO\", \"JOINING_ANNIVERSARY\", \"LOST_CARD_ORDER\", \"PREMIUM_ENGAGEMENT_FEES_SAVED\", \"PREMIUM_ENGAGEMENT_INACTIVE_CARD\", \"PUMPKIN_PAYMENT_NOTIFICATION\", \"REENGAGEMENT_ACTIVE_FUNDS\"], \"xaxis\": \"x4\", \"y\": [3, 92, 44, 26, 112, 168, 6, 337], \"yaxis\": \"y4\"}, {\"alignmentgroup\": \"True\", \"hoverlabel\": {\"namelength\": 0}, \"hovertemplate\": \"user_plan=PREMIUM<br>channel=EMAIL<br>status=FAILED<br>reason=%{x}<br>total_notifications=%{y}\", \"legendgroup\": \"user_plan=PREMIUM\", \"marker\": {\"color\": \"#ab63fa\"}, \"name\": \"user_plan=PREMIUM\", \"offsetgroup\": \"user_plan=PREMIUM\", \"orientation\": \"v\", \"showlegend\": false, \"textposition\": \"auto\", \"type\": \"bar\", \"x\": [\"ENGAGEMENT_SPLIT_BILL_RESTAURANT\", \"FIFTH_PAYMENT_PROMO\", \"LOST_CARD_ORDER\", \"MADE_MONEY_REQUEST_NOT_SPLIT_BILL\", \"METAL_GAME_START\", \"NO_INITIAL_CARD_ORDER\", \"NO_INITIAL_CARD_USE\", \"NO_INITIAL_FREE_PROMOPAGE_CARD_ORDER\", \"ONBOARDING_TIPS_ACTIVATED_USERS\", \"WELCOME_HOME\"], \"xaxis\": \"x\", \"y\": [7, 44, 18, 87, 16, 28, 95, 6, 21, 7], \"yaxis\": \"y\"}, {\"alignmentgroup\": \"True\", \"hoverlabel\": {\"namelength\": 0}, \"hovertemplate\": \"user_plan=PREMIUM<br>channel=EMAIL<br>status=SENT<br>reason=%{x}<br>total_notifications=%{y}\", \"legendgroup\": \"user_plan=PREMIUM\", \"marker\": {\"color\": \"#ab63fa\"}, \"name\": \"user_plan=PREMIUM\", \"offsetgroup\": \"user_plan=PREMIUM\", \"orientation\": \"v\", \"showlegend\": false, \"textposition\": \"auto\", \"type\": \"bar\", \"x\": [\"ENGAGEMENT_SPLIT_BILL_RESTAURANT\", \"FIFTH_PAYMENT_PROMO\", \"LOST_CARD_ORDER\", \"MADE_MONEY_REQUEST_NOT_SPLIT_BILL\", \"METAL_GAME_START\", \"NO_INITIAL_CARD_ORDER\", \"NO_INITIAL_CARD_USE\", \"NO_INITIAL_FREE_PROMOPAGE_CARD_ORDER\", \"ONBOARDING_TIPS_ACTIVATED_USERS\", \"WELCOME_HOME\"], \"xaxis\": \"x2\", \"y\": [31, 127, 18, 25, 88, 92, 70, 36, 156, 8], \"yaxis\": \"y2\"}, {\"alignmentgroup\": \"True\", \"hoverlabel\": {\"namelength\": 0}, \"hovertemplate\": \"user_plan=PREMIUM_OFFER<br>channel=PUSH<br>status=FAILED<br>reason=%{x}<br>total_notifications=%{y}\", \"legendgroup\": \"user_plan=PREMIUM_OFFER\", \"marker\": {\"color\": \"#FFA15A\"}, \"name\": \"user_plan=PREMIUM_OFFER\", \"offsetgroup\": \"user_plan=PREMIUM_OFFER\", \"orientation\": \"v\", \"showlegend\": true, \"textposition\": \"auto\", \"type\": \"bar\", \"x\": [\"FIFTH_PAYMENT_PROMO\", \"LOST_CARD_ORDER\", \"REENGAGEMENT_ACTIVE_FUNDS\"], \"xaxis\": \"x3\", \"y\": [2, 1, 1], \"yaxis\": \"y3\"}, {\"alignmentgroup\": \"True\", \"hoverlabel\": {\"namelength\": 0}, \"hovertemplate\": \"user_plan=PREMIUM_OFFER<br>channel=PUSH<br>status=SENT<br>reason=%{x}<br>total_notifications=%{y}\", \"legendgroup\": \"user_plan=PREMIUM_OFFER\", \"marker\": {\"color\": \"#FFA15A\"}, \"name\": \"user_plan=PREMIUM_OFFER\", \"offsetgroup\": \"user_plan=PREMIUM_OFFER\", \"orientation\": \"v\", \"showlegend\": false, \"textposition\": \"auto\", \"type\": \"bar\", \"x\": [\"BLACK_FRIDAY\", \"FIFTH_PAYMENT_PROMO\", \"JOINING_ANNIVERSARY\", \"LOST_CARD_ORDER\", \"REENGAGEMENT_ACTIVE_FUNDS\"], \"xaxis\": \"x4\", \"y\": [2, 2, 2, 2, 4], \"yaxis\": \"y4\"}, {\"alignmentgroup\": \"True\", \"hoverlabel\": {\"namelength\": 0}, \"hovertemplate\": \"user_plan=PREMIUM_OFFER<br>channel=EMAIL<br>status=FAILED<br>reason=%{x}<br>total_notifications=%{y}\", \"legendgroup\": \"user_plan=PREMIUM_OFFER\", \"marker\": {\"color\": \"#FFA15A\"}, \"name\": \"user_plan=PREMIUM_OFFER\", \"offsetgroup\": \"user_plan=PREMIUM_OFFER\", \"orientation\": \"v\", \"showlegend\": false, \"textposition\": \"auto\", \"type\": \"bar\", \"x\": [\"FIFTH_PAYMENT_PROMO\", \"METAL_GAME_START\", \"NO_INITIAL_CARD_ORDER\", \"NO_INITIAL_CARD_USE\"], \"xaxis\": \"x\", \"y\": [4, 1, 1, 1], \"yaxis\": \"y\"}, {\"alignmentgroup\": \"True\", \"hoverlabel\": {\"namelength\": 0}, \"hovertemplate\": \"user_plan=PREMIUM_OFFER<br>channel=EMAIL<br>status=SENT<br>reason=%{x}<br>total_notifications=%{y}\", \"legendgroup\": \"user_plan=PREMIUM_OFFER\", \"marker\": {\"color\": \"#FFA15A\"}, \"name\": \"user_plan=PREMIUM_OFFER\", \"offsetgroup\": \"user_plan=PREMIUM_OFFER\", \"orientation\": \"v\", \"showlegend\": false, \"textposition\": \"auto\", \"type\": \"bar\", \"x\": [\"ENGAGEMENT_SPLIT_BILL_RESTAURANT\", \"FIFTH_PAYMENT_PROMO\", \"MADE_MONEY_REQUEST_NOT_SPLIT_BILL\", \"METAL_GAME_START\", \"NO_INITIAL_CARD_ORDER\", \"NO_INITIAL_CARD_USE\", \"NO_INITIAL_FREE_PROMOPAGE_CARD_ORDER\", \"ONBOARDING_TIPS_ACTIVATED_USERS\", \"WELCOME_HOME\"], \"xaxis\": \"x2\", \"y\": [4, 3, 3, 2, 8, 3, 1, 6, 1], \"yaxis\": \"y2\"}, {\"alignmentgroup\": \"True\", \"hoverlabel\": {\"namelength\": 0}, \"hovertemplate\": \"user_plan=PREMIUM_FREE<br>channel=PUSH<br>status=SENT<br>reason=%{x}<br>total_notifications=%{y}\", \"legendgroup\": \"user_plan=PREMIUM_FREE\", \"marker\": {\"color\": \"#19d3f3\"}, \"name\": \"user_plan=PREMIUM_FREE\", \"offsetgroup\": \"user_plan=PREMIUM_FREE\", \"orientation\": \"v\", \"showlegend\": true, \"textposition\": \"auto\", \"type\": \"bar\", \"x\": [\"LOST_CARD_ORDER\", \"REENGAGEMENT_ACTIVE_FUNDS\"], \"xaxis\": \"x4\", \"y\": [1, 2], \"yaxis\": \"y4\"}, {\"alignmentgroup\": \"True\", \"hoverlabel\": {\"namelength\": 0}, \"hovertemplate\": \"user_plan=PREMIUM_FREE<br>channel=EMAIL<br>status=SENT<br>reason=%{x}<br>total_notifications=%{y}\", \"legendgroup\": \"user_plan=PREMIUM_FREE\", \"marker\": {\"color\": \"#19d3f3\"}, \"name\": \"user_plan=PREMIUM_FREE\", \"offsetgroup\": \"user_plan=PREMIUM_FREE\", \"orientation\": \"v\", \"showlegend\": false, \"textposition\": \"auto\", \"type\": \"bar\", \"x\": [\"ENGAGEMENT_SPLIT_BILL_RESTAURANT\", \"LOST_CARD_ORDER\", \"NO_INITIAL_CARD_USE\"], \"xaxis\": \"x2\", \"y\": [1, 1, 1], \"yaxis\": \"y2\"}],\n",
       "                        {\"annotations\": [{\"font\": {}, \"showarrow\": false, \"text\": \"status=FAILED\", \"x\": 0.24, \"xanchor\": \"center\", \"xref\": \"paper\", \"y\": 1.0, \"yanchor\": \"bottom\", \"yref\": \"paper\"}, {\"font\": {}, \"showarrow\": false, \"text\": \"status=SENT\", \"x\": 0.74, \"xanchor\": \"center\", \"xref\": \"paper\", \"y\": 1.0, \"yanchor\": \"bottom\", \"yref\": \"paper\"}, {\"font\": {}, \"showarrow\": false, \"text\": \"channel=EMAIL\", \"textangle\": 90, \"x\": 0.98, \"xanchor\": \"left\", \"xref\": \"paper\", \"y\": 0.2425, \"yanchor\": \"middle\", \"yref\": \"paper\"}, {\"font\": {}, \"showarrow\": false, \"text\": \"channel=PUSH\", \"textangle\": 90, \"x\": 0.98, \"xanchor\": \"left\", \"xref\": \"paper\", \"y\": 0.7575000000000001, \"yanchor\": \"middle\", \"yref\": \"paper\"}], \"barmode\": \"stack\", \"height\": 600, \"legend\": {\"tracegroupgap\": 0}, \"margin\": {\"t\": 60}, \"template\": {\"data\": {\"bar\": [{\"error_x\": {\"color\": \"#2a3f5f\"}, \"error_y\": {\"color\": \"#2a3f5f\"}, \"marker\": {\"line\": {\"color\": \"#E5ECF6\", \"width\": 0.5}}, \"type\": \"bar\"}], \"barpolar\": [{\"marker\": {\"line\": {\"color\": \"#E5ECF6\", \"width\": 0.5}}, \"type\": \"barpolar\"}], \"carpet\": [{\"aaxis\": {\"endlinecolor\": \"#2a3f5f\", \"gridcolor\": \"white\", \"linecolor\": \"white\", \"minorgridcolor\": \"white\", \"startlinecolor\": \"#2a3f5f\"}, \"baxis\": {\"endlinecolor\": \"#2a3f5f\", \"gridcolor\": \"white\", \"linecolor\": \"white\", \"minorgridcolor\": \"white\", \"startlinecolor\": \"#2a3f5f\"}, \"type\": \"carpet\"}], \"choropleth\": [{\"colorbar\": {\"outlinewidth\": 0, \"ticks\": \"\"}, \"type\": \"choropleth\"}], \"contour\": [{\"colorbar\": {\"outlinewidth\": 0, \"ticks\": \"\"}, \"colorscale\": [[0.0, \"#0d0887\"], [0.1111111111111111, \"#46039f\"], [0.2222222222222222, \"#7201a8\"], [0.3333333333333333, \"#9c179e\"], [0.4444444444444444, \"#bd3786\"], [0.5555555555555556, \"#d8576b\"], [0.6666666666666666, \"#ed7953\"], [0.7777777777777778, \"#fb9f3a\"], [0.8888888888888888, \"#fdca26\"], [1.0, \"#f0f921\"]], \"type\": \"contour\"}], \"contourcarpet\": [{\"colorbar\": {\"outlinewidth\": 0, \"ticks\": \"\"}, \"type\": \"contourcarpet\"}], \"heatmap\": [{\"colorbar\": {\"outlinewidth\": 0, \"ticks\": \"\"}, \"colorscale\": [[0.0, \"#0d0887\"], [0.1111111111111111, \"#46039f\"], [0.2222222222222222, \"#7201a8\"], [0.3333333333333333, \"#9c179e\"], [0.4444444444444444, \"#bd3786\"], [0.5555555555555556, \"#d8576b\"], [0.6666666666666666, \"#ed7953\"], [0.7777777777777778, \"#fb9f3a\"], [0.8888888888888888, \"#fdca26\"], [1.0, \"#f0f921\"]], \"type\": \"heatmap\"}], \"heatmapgl\": [{\"colorbar\": {\"outlinewidth\": 0, \"ticks\": \"\"}, \"colorscale\": [[0.0, \"#0d0887\"], [0.1111111111111111, \"#46039f\"], [0.2222222222222222, \"#7201a8\"], [0.3333333333333333, \"#9c179e\"], [0.4444444444444444, \"#bd3786\"], [0.5555555555555556, \"#d8576b\"], [0.6666666666666666, \"#ed7953\"], [0.7777777777777778, \"#fb9f3a\"], [0.8888888888888888, \"#fdca26\"], [1.0, \"#f0f921\"]], \"type\": \"heatmapgl\"}], \"histogram\": [{\"marker\": {\"colorbar\": {\"outlinewidth\": 0, \"ticks\": \"\"}}, \"type\": \"histogram\"}], \"histogram2d\": [{\"colorbar\": {\"outlinewidth\": 0, \"ticks\": \"\"}, \"colorscale\": [[0.0, \"#0d0887\"], [0.1111111111111111, \"#46039f\"], [0.2222222222222222, \"#7201a8\"], [0.3333333333333333, \"#9c179e\"], [0.4444444444444444, \"#bd3786\"], [0.5555555555555556, \"#d8576b\"], [0.6666666666666666, \"#ed7953\"], [0.7777777777777778, \"#fb9f3a\"], [0.8888888888888888, \"#fdca26\"], [1.0, \"#f0f921\"]], \"type\": \"histogram2d\"}], \"histogram2dcontour\": [{\"colorbar\": {\"outlinewidth\": 0, \"ticks\": \"\"}, \"colorscale\": [[0.0, \"#0d0887\"], [0.1111111111111111, \"#46039f\"], [0.2222222222222222, \"#7201a8\"], [0.3333333333333333, \"#9c179e\"], [0.4444444444444444, \"#bd3786\"], [0.5555555555555556, \"#d8576b\"], [0.6666666666666666, \"#ed7953\"], [0.7777777777777778, \"#fb9f3a\"], [0.8888888888888888, \"#fdca26\"], [1.0, \"#f0f921\"]], \"type\": \"histogram2dcontour\"}], \"mesh3d\": [{\"colorbar\": {\"outlinewidth\": 0, \"ticks\": \"\"}, \"type\": \"mesh3d\"}], \"parcoords\": [{\"line\": {\"colorbar\": {\"outlinewidth\": 0, \"ticks\": \"\"}}, \"type\": \"parcoords\"}], \"scatter\": [{\"marker\": {\"colorbar\": {\"outlinewidth\": 0, \"ticks\": \"\"}}, \"type\": \"scatter\"}], \"scatter3d\": [{\"line\": {\"colorbar\": {\"outlinewidth\": 0, \"ticks\": \"\"}}, \"marker\": {\"colorbar\": {\"outlinewidth\": 0, \"ticks\": \"\"}}, \"type\": \"scatter3d\"}], \"scattercarpet\": [{\"marker\": {\"colorbar\": {\"outlinewidth\": 0, \"ticks\": \"\"}}, \"type\": \"scattercarpet\"}], \"scattergeo\": [{\"marker\": {\"colorbar\": {\"outlinewidth\": 0, \"ticks\": \"\"}}, \"type\": \"scattergeo\"}], \"scattergl\": [{\"marker\": {\"colorbar\": {\"outlinewidth\": 0, \"ticks\": \"\"}}, \"type\": \"scattergl\"}], \"scattermapbox\": [{\"marker\": {\"colorbar\": {\"outlinewidth\": 0, \"ticks\": \"\"}}, \"type\": \"scattermapbox\"}], \"scatterpolar\": [{\"marker\": {\"colorbar\": {\"outlinewidth\": 0, \"ticks\": \"\"}}, \"type\": \"scatterpolar\"}], \"scatterpolargl\": [{\"marker\": {\"colorbar\": {\"outlinewidth\": 0, \"ticks\": \"\"}}, \"type\": \"scatterpolargl\"}], \"scatterternary\": [{\"marker\": {\"colorbar\": {\"outlinewidth\": 0, \"ticks\": \"\"}}, \"type\": \"scatterternary\"}], \"surface\": [{\"colorbar\": {\"outlinewidth\": 0, \"ticks\": \"\"}, \"colorscale\": [[0.0, \"#0d0887\"], [0.1111111111111111, \"#46039f\"], [0.2222222222222222, \"#7201a8\"], [0.3333333333333333, \"#9c179e\"], [0.4444444444444444, \"#bd3786\"], [0.5555555555555556, \"#d8576b\"], [0.6666666666666666, \"#ed7953\"], [0.7777777777777778, \"#fb9f3a\"], [0.8888888888888888, \"#fdca26\"], [1.0, \"#f0f921\"]], \"type\": \"surface\"}], \"table\": [{\"cells\": {\"fill\": {\"color\": \"#EBF0F8\"}, \"line\": {\"color\": \"white\"}}, \"header\": {\"fill\": {\"color\": \"#C8D4E3\"}, \"line\": {\"color\": \"white\"}}, \"type\": \"table\"}]}, \"layout\": {\"annotationdefaults\": {\"arrowcolor\": \"#2a3f5f\", \"arrowhead\": 0, \"arrowwidth\": 1}, \"colorscale\": {\"diverging\": [[0, \"#8e0152\"], [0.1, \"#c51b7d\"], [0.2, \"#de77ae\"], [0.3, \"#f1b6da\"], [0.4, \"#fde0ef\"], [0.5, \"#f7f7f7\"], [0.6, \"#e6f5d0\"], [0.7, \"#b8e186\"], [0.8, \"#7fbc41\"], [0.9, \"#4d9221\"], [1, \"#276419\"]], \"sequential\": [[0.0, \"#0d0887\"], [0.1111111111111111, \"#46039f\"], [0.2222222222222222, \"#7201a8\"], [0.3333333333333333, \"#9c179e\"], [0.4444444444444444, \"#bd3786\"], [0.5555555555555556, \"#d8576b\"], [0.6666666666666666, \"#ed7953\"], [0.7777777777777778, \"#fb9f3a\"], [0.8888888888888888, \"#fdca26\"], [1.0, \"#f0f921\"]], \"sequentialminus\": [[0.0, \"#0d0887\"], [0.1111111111111111, \"#46039f\"], [0.2222222222222222, \"#7201a8\"], [0.3333333333333333, \"#9c179e\"], [0.4444444444444444, \"#bd3786\"], [0.5555555555555556, \"#d8576b\"], [0.6666666666666666, \"#ed7953\"], [0.7777777777777778, \"#fb9f3a\"], [0.8888888888888888, \"#fdca26\"], [1.0, \"#f0f921\"]]}, \"colorway\": [\"#636efa\", \"#EF553B\", \"#00cc96\", \"#ab63fa\", \"#FFA15A\", \"#19d3f3\", \"#FF6692\", \"#B6E880\", \"#FF97FF\", \"#FECB52\"], \"font\": {\"color\": \"#2a3f5f\"}, \"geo\": {\"bgcolor\": \"white\", \"lakecolor\": \"white\", \"landcolor\": \"#E5ECF6\", \"showlakes\": true, \"showland\": true, \"subunitcolor\": \"white\"}, \"hoverlabel\": {\"align\": \"left\"}, \"hovermode\": \"closest\", \"mapbox\": {\"style\": \"light\"}, \"paper_bgcolor\": \"white\", \"plot_bgcolor\": \"#E5ECF6\", \"polar\": {\"angularaxis\": {\"gridcolor\": \"white\", \"linecolor\": \"white\", \"ticks\": \"\"}, \"bgcolor\": \"#E5ECF6\", \"radialaxis\": {\"gridcolor\": \"white\", \"linecolor\": \"white\", \"ticks\": \"\"}}, \"scene\": {\"xaxis\": {\"backgroundcolor\": \"#E5ECF6\", \"gridcolor\": \"white\", \"gridwidth\": 2, \"linecolor\": \"white\", \"showbackground\": true, \"ticks\": \"\", \"zerolinecolor\": \"white\"}, \"yaxis\": {\"backgroundcolor\": \"#E5ECF6\", \"gridcolor\": \"white\", \"gridwidth\": 2, \"linecolor\": \"white\", \"showbackground\": true, \"ticks\": \"\", \"zerolinecolor\": \"white\"}, \"zaxis\": {\"backgroundcolor\": \"#E5ECF6\", \"gridcolor\": \"white\", \"gridwidth\": 2, \"linecolor\": \"white\", \"showbackground\": true, \"ticks\": \"\", \"zerolinecolor\": \"white\"}}, \"shapedefaults\": {\"line\": {\"color\": \"#2a3f5f\"}}, \"ternary\": {\"aaxis\": {\"gridcolor\": \"white\", \"linecolor\": \"white\", \"ticks\": \"\"}, \"baxis\": {\"gridcolor\": \"white\", \"linecolor\": \"white\", \"ticks\": \"\"}, \"bgcolor\": \"#E5ECF6\", \"caxis\": {\"gridcolor\": \"white\", \"linecolor\": \"white\", \"ticks\": \"\"}}, \"title\": {\"x\": 0.05}, \"xaxis\": {\"automargin\": true, \"gridcolor\": \"white\", \"linecolor\": \"white\", \"ticks\": \"\", \"zerolinecolor\": \"white\", \"zerolinewidth\": 2}, \"yaxis\": {\"automargin\": true, \"gridcolor\": \"white\", \"linecolor\": \"white\", \"ticks\": \"\", \"zerolinecolor\": \"white\", \"zerolinewidth\": 2}}}, \"xaxis\": {\"anchor\": \"y\", \"domain\": [0.0, 0.48], \"title\": {\"text\": \"reason\"}}, \"xaxis2\": {\"anchor\": \"y2\", \"domain\": [0.5, 0.98], \"matches\": \"x\", \"title\": {\"text\": \"reason\"}}, \"xaxis3\": {\"anchor\": \"y3\", \"domain\": [0.0, 0.48], \"matches\": \"x\", \"showticklabels\": false}, \"xaxis4\": {\"anchor\": \"y4\", \"domain\": [0.5, 0.98], \"matches\": \"x\", \"showticklabels\": false}, \"yaxis\": {\"anchor\": \"x\", \"domain\": [0.0, 0.485], \"title\": {\"text\": \"total_notifications\"}}, \"yaxis2\": {\"anchor\": \"x2\", \"domain\": [0.0, 0.485], \"matches\": \"y\", \"showticklabels\": false}, \"yaxis3\": {\"anchor\": \"x3\", \"domain\": [0.515, 1.0], \"matches\": \"y\", \"title\": {\"text\": \"total_notifications\"}}, \"yaxis4\": {\"anchor\": \"x4\", \"domain\": [0.515, 1.0], \"matches\": \"y\", \"showticklabels\": false}},\n",
       "                        {\"responsive\": true}\n",
       "                    ).then(function(){\n",
       "                            \n",
       "var gd = document.getElementById('261e2866-f079-4a81-ac88-ce9be9907e4d');\n",
       "var x = new MutationObserver(function (mutations, observer) {{\n",
       "        var display = window.getComputedStyle(gd).display;\n",
       "        if (!display || display === 'none') {{\n",
       "            console.log([gd, 'removed!']);\n",
       "            Plotly.purge(gd);\n",
       "            observer.disconnect();\n",
       "        }}\n",
       "}});\n",
       "\n",
       "// Listen for the removal of the full notebook cells\n",
       "var notebookContainer = gd.closest('#notebook-container');\n",
       "if (notebookContainer) {{\n",
       "    x.observe(notebookContainer, {childList: true});\n",
       "}}\n",
       "\n",
       "// Listen for the clearing of the current output cell\n",
       "var outputEl = gd.closest('.output');\n",
       "if (outputEl) {{\n",
       "    x.observe(outputEl, {childList: true});\n",
       "}}\n",
       "\n",
       "                        })\n",
       "                };\n",
       "                });\n",
       "            </script>\n",
       "        </div>"
      ]
     },
     "metadata": {},
     "output_type": "display_data"
    }
   ],
   "source": [
    "fig = px.bar(agg_notifications_plot_data.reset_index(), \n",
    "             x=\"reason\", \n",
    "             y='total_notifications',\n",
    "             color=\"user_plan\", \n",
    "             barmode=\"stack\",\n",
    "             facet_row=\"channel\", facet_col=\"status\")\n",
    "fig.show()"
   ]
  },
  {
   "cell_type": "markdown",
   "metadata": {},
   "source": [
    "### Understanding transactions"
   ]
  },
  {
   "cell_type": "code",
   "execution_count": 85,
   "metadata": {},
   "outputs": [
    {
     "data": {
      "text/html": [
       "<div>\n",
       "<style scoped>\n",
       "    .dataframe tbody tr th:only-of-type {\n",
       "        vertical-align: middle;\n",
       "    }\n",
       "\n",
       "    .dataframe tbody tr th {\n",
       "        vertical-align: top;\n",
       "    }\n",
       "\n",
       "    .dataframe thead th {\n",
       "        text-align: right;\n",
       "    }\n",
       "</style>\n",
       "<table border=\"1\" class=\"dataframe\">\n",
       "  <thead>\n",
       "    <tr style=\"text-align: right;\">\n",
       "      <th></th>\n",
       "      <th>transaction_id</th>\n",
       "      <th>transactions_type</th>\n",
       "      <th>transactions_currency</th>\n",
       "      <th>amount_usd</th>\n",
       "      <th>transactions_state</th>\n",
       "      <th>ea_cardholderpresence</th>\n",
       "      <th>ea_merchant_mcc</th>\n",
       "      <th>ea_merchant_city</th>\n",
       "      <th>ea_merchant_country</th>\n",
       "      <th>direction</th>\n",
       "      <th>user_id</th>\n",
       "      <th>created_date</th>\n",
       "    </tr>\n",
       "  </thead>\n",
       "  <tbody>\n",
       "    <tr>\n",
       "      <th>0</th>\n",
       "      <td>transaction_0</td>\n",
       "      <td>TRANSFER</td>\n",
       "      <td>AED</td>\n",
       "      <td>4.55</td>\n",
       "      <td>COMPLETED</td>\n",
       "      <td>NaN</td>\n",
       "      <td>NaN</td>\n",
       "      <td>NaN</td>\n",
       "      <td>NaN</td>\n",
       "      <td>OUTBOUND</td>\n",
       "      <td>898</td>\n",
       "      <td>2018-04-03 03:34:21.784487</td>\n",
       "    </tr>\n",
       "    <tr>\n",
       "      <th>1</th>\n",
       "      <td>transaction_1</td>\n",
       "      <td>CARD_PAYMENT</td>\n",
       "      <td>AED</td>\n",
       "      <td>15.50</td>\n",
       "      <td>COMPLETED</td>\n",
       "      <td>FALSE</td>\n",
       "      <td>4111.0</td>\n",
       "      <td>Dubai</td>\n",
       "      <td>ARE</td>\n",
       "      <td>OUTBOUND</td>\n",
       "      <td>1652</td>\n",
       "      <td>2019-03-19 06:15:59.537032</td>\n",
       "    </tr>\n",
       "    <tr>\n",
       "      <th>2</th>\n",
       "      <td>transaction_2</td>\n",
       "      <td>CARD_PAYMENT</td>\n",
       "      <td>AED</td>\n",
       "      <td>43.40</td>\n",
       "      <td>COMPLETED</td>\n",
       "      <td>FALSE</td>\n",
       "      <td>5814.0</td>\n",
       "      <td>Dubai</td>\n",
       "      <td>ARE</td>\n",
       "      <td>OUTBOUND</td>\n",
       "      <td>1652</td>\n",
       "      <td>2019-03-18 18:53:41.323032</td>\n",
       "    </tr>\n",
       "    <tr>\n",
       "      <th>3</th>\n",
       "      <td>transaction_3</td>\n",
       "      <td>TRANSFER</td>\n",
       "      <td>AED</td>\n",
       "      <td>10043.01</td>\n",
       "      <td>COMPLETED</td>\n",
       "      <td>NaN</td>\n",
       "      <td>NaN</td>\n",
       "      <td>NaN</td>\n",
       "      <td>NaN</td>\n",
       "      <td>OUTBOUND</td>\n",
       "      <td>1652</td>\n",
       "      <td>2019-03-22 14:20:01.513032</td>\n",
       "    </tr>\n",
       "    <tr>\n",
       "      <th>4</th>\n",
       "      <td>transaction_4</td>\n",
       "      <td>CARD_PAYMENT</td>\n",
       "      <td>AED</td>\n",
       "      <td>43.81</td>\n",
       "      <td>COMPLETED</td>\n",
       "      <td>FALSE</td>\n",
       "      <td>5651.0</td>\n",
       "      <td>Abu Dhabi</td>\n",
       "      <td>ARE</td>\n",
       "      <td>OUTBOUND</td>\n",
       "      <td>5509</td>\n",
       "      <td>2019-03-22 05:42:50.316652</td>\n",
       "    </tr>\n",
       "    <tr>\n",
       "      <th>...</th>\n",
       "      <td>...</td>\n",
       "      <td>...</td>\n",
       "      <td>...</td>\n",
       "      <td>...</td>\n",
       "      <td>...</td>\n",
       "      <td>...</td>\n",
       "      <td>...</td>\n",
       "      <td>...</td>\n",
       "      <td>...</td>\n",
       "      <td>...</td>\n",
       "      <td>...</td>\n",
       "      <td>...</td>\n",
       "    </tr>\n",
       "    <tr>\n",
       "      <th>459322</th>\n",
       "      <td>transaction_2740070</td>\n",
       "      <td>TRANSFER</td>\n",
       "      <td>EUR</td>\n",
       "      <td>1.70</td>\n",
       "      <td>COMPLETED</td>\n",
       "      <td>NaN</td>\n",
       "      <td>NaN</td>\n",
       "      <td>NaN</td>\n",
       "      <td>NaN</td>\n",
       "      <td>OUTBOUND</td>\n",
       "      <td>16319</td>\n",
       "      <td>2019-04-30 10:10:36.810961</td>\n",
       "    </tr>\n",
       "    <tr>\n",
       "      <th>459323</th>\n",
       "      <td>transaction_2740071</td>\n",
       "      <td>TRANSFER</td>\n",
       "      <td>EUR</td>\n",
       "      <td>17.02</td>\n",
       "      <td>COMPLETED</td>\n",
       "      <td>NaN</td>\n",
       "      <td>NaN</td>\n",
       "      <td>NaN</td>\n",
       "      <td>NaN</td>\n",
       "      <td>INBOUND</td>\n",
       "      <td>18233</td>\n",
       "      <td>2019-04-30 18:42:45.443443</td>\n",
       "    </tr>\n",
       "    <tr>\n",
       "      <th>459324</th>\n",
       "      <td>transaction_2740072</td>\n",
       "      <td>TRANSFER</td>\n",
       "      <td>EUR</td>\n",
       "      <td>4.26</td>\n",
       "      <td>COMPLETED</td>\n",
       "      <td>NaN</td>\n",
       "      <td>NaN</td>\n",
       "      <td>NaN</td>\n",
       "      <td>NaN</td>\n",
       "      <td>OUTBOUND</td>\n",
       "      <td>13991</td>\n",
       "      <td>2019-05-01 11:34:25.078035</td>\n",
       "    </tr>\n",
       "    <tr>\n",
       "      <th>459325</th>\n",
       "      <td>transaction_2740073</td>\n",
       "      <td>TRANSFER</td>\n",
       "      <td>EUR</td>\n",
       "      <td>1.70</td>\n",
       "      <td>COMPLETED</td>\n",
       "      <td>NaN</td>\n",
       "      <td>NaN</td>\n",
       "      <td>NaN</td>\n",
       "      <td>NaN</td>\n",
       "      <td>OUTBOUND</td>\n",
       "      <td>12529</td>\n",
       "      <td>2019-04-30 16:51:26.445105</td>\n",
       "    </tr>\n",
       "    <tr>\n",
       "      <th>459326</th>\n",
       "      <td>transaction_2740074</td>\n",
       "      <td>TRANSFER</td>\n",
       "      <td>EUR</td>\n",
       "      <td>4.26</td>\n",
       "      <td>COMPLETED</td>\n",
       "      <td>NaN</td>\n",
       "      <td>NaN</td>\n",
       "      <td>NaN</td>\n",
       "      <td>NaN</td>\n",
       "      <td>OUTBOUND</td>\n",
       "      <td>12060</td>\n",
       "      <td>2019-05-01 06:01:59.441309</td>\n",
       "    </tr>\n",
       "  </tbody>\n",
       "</table>\n",
       "<p>2740075 rows × 12 columns</p>\n",
       "</div>"
      ],
      "text/plain": [
       "             transaction_id transactions_type transactions_currency  \\\n",
       "0             transaction_0          TRANSFER                   AED   \n",
       "1             transaction_1      CARD_PAYMENT                   AED   \n",
       "2             transaction_2      CARD_PAYMENT                   AED   \n",
       "3             transaction_3          TRANSFER                   AED   \n",
       "4             transaction_4      CARD_PAYMENT                   AED   \n",
       "...                     ...               ...                   ...   \n",
       "459322  transaction_2740070          TRANSFER                   EUR   \n",
       "459323  transaction_2740071          TRANSFER                   EUR   \n",
       "459324  transaction_2740072          TRANSFER                   EUR   \n",
       "459325  transaction_2740073          TRANSFER                   EUR   \n",
       "459326  transaction_2740074          TRANSFER                   EUR   \n",
       "\n",
       "        amount_usd transactions_state ea_cardholderpresence  ea_merchant_mcc  \\\n",
       "0             4.55          COMPLETED                   NaN              NaN   \n",
       "1            15.50          COMPLETED                 FALSE           4111.0   \n",
       "2            43.40          COMPLETED                 FALSE           5814.0   \n",
       "3         10043.01          COMPLETED                   NaN              NaN   \n",
       "4            43.81          COMPLETED                 FALSE           5651.0   \n",
       "...            ...                ...                   ...              ...   \n",
       "459322        1.70          COMPLETED                   NaN              NaN   \n",
       "459323       17.02          COMPLETED                   NaN              NaN   \n",
       "459324        4.26          COMPLETED                   NaN              NaN   \n",
       "459325        1.70          COMPLETED                   NaN              NaN   \n",
       "459326        4.26          COMPLETED                   NaN              NaN   \n",
       "\n",
       "       ea_merchant_city ea_merchant_country direction  user_id  \\\n",
       "0                   NaN                 NaN  OUTBOUND      898   \n",
       "1                 Dubai                 ARE  OUTBOUND     1652   \n",
       "2                 Dubai                 ARE  OUTBOUND     1652   \n",
       "3                   NaN                 NaN  OUTBOUND     1652   \n",
       "4             Abu Dhabi                 ARE  OUTBOUND     5509   \n",
       "...                 ...                 ...       ...      ...   \n",
       "459322              NaN                 NaN  OUTBOUND    16319   \n",
       "459323              NaN                 NaN   INBOUND    18233   \n",
       "459324              NaN                 NaN  OUTBOUND    13991   \n",
       "459325              NaN                 NaN  OUTBOUND    12529   \n",
       "459326              NaN                 NaN  OUTBOUND    12060   \n",
       "\n",
       "                      created_date  \n",
       "0       2018-04-03 03:34:21.784487  \n",
       "1       2019-03-19 06:15:59.537032  \n",
       "2       2019-03-18 18:53:41.323032  \n",
       "3       2019-03-22 14:20:01.513032  \n",
       "4       2019-03-22 05:42:50.316652  \n",
       "...                            ...  \n",
       "459322  2019-04-30 10:10:36.810961  \n",
       "459323  2019-04-30 18:42:45.443443  \n",
       "459324  2019-05-01 11:34:25.078035  \n",
       "459325  2019-04-30 16:51:26.445105  \n",
       "459326  2019-05-01 06:01:59.441309  \n",
       "\n",
       "[2740075 rows x 12 columns]"
      ]
     },
     "execution_count": 85,
     "metadata": {},
     "output_type": "execute_result"
    }
   ],
   "source": [
    "transactions_pd"
   ]
  },
  {
   "cell_type": "code",
   "execution_count": 98,
   "metadata": {},
   "outputs": [],
   "source": [
    "transactions_for_plot = transactions_pd.sample(n=10*1000)\n",
    "transactions_for_plot['amount_usd'] = transactions_for_plot['amount_usd'].apply(lambda x: np.log(x))"
   ]
  },
  {
   "cell_type": "code",
   "execution_count": 99,
   "metadata": {},
   "outputs": [
    {
     "data": {
      "image/png": "[encoded data removed]",
      "text/plain": [
       "<Figure size 981.875x288 with 6 Axes>"
      ]
     },
     "metadata": {},
     "output_type": "display_data"
    }
   ],
   "source": [
    "g = sns.catplot(x=\"direction\", \n",
    "                y=\"amount_usd\",\n",
    "                hue=\"transactions_type\", \n",
    "                col=\"transactions_state\",\n",
    "                data=transactions_for_plot, kind=\"strip\",\n",
    "                height=4, aspect=0.5)"
   ]
  },
  {
   "cell_type": "markdown",
   "metadata": {},
   "source": [
    "## Feature engineering"
   ]
  },
  {
   "cell_type": "markdown",
   "metadata": {},
   "source": [
    "### Define relations"
   ]
  },
  {
   "cell_type": "code",
   "execution_count": null,
   "metadata": {},
   "outputs": [],
   "source": [
    "entities = {\"users\" : (users_pd, \"user_id\"),\n",
    "            \"devices\" : (devices_pd, \"device_id\"),  # we really need that index-as-column \n",
    "            # https://github.com/FeatureLabs/featuretools/issues/130\n",
    "            \"notifications\" : (notifications_pd, \"notification_id\"),\n",
    "            \"transactions\": (transactions_pd, 'transaction_id'),\n",
    "           }"
   ]
  },
  {
   "cell_type": "code",
   "execution_count": null,
   "metadata": {},
   "outputs": [],
   "source": [
    "relationships = [(\"users\", \"user_id\", \"transactions\", \"user_id\"),\n",
    "                 (\"users\", \"user_id\", \"notifications\", \"user_id\"),\n",
    "                 (\"users\", \"user_id\", \"devices\", \"user_id\")]"
   ]
  },
  {
   "cell_type": "markdown",
   "metadata": {},
   "source": [
    "### Run deep feature synthesis"
   ]
  },
  {
   "cell_type": "code",
   "execution_count": null,
   "metadata": {},
   "outputs": [],
   "source": [
    "feature_matrix_users, features_defs = ft.dfs(entities=entities,\n",
    "                                             relationships=relationships,\n",
    "                                             target_entity=\"users\",  # we wish to profile users, so it's target\n",
    "                                             # n_jobs=multiprocessing.cpu_count()-1,\n",
    "                                             # I'm getting \"zmq.error.ZMQError: Too many open files\" - MacOS issue?\n",
    "                                             verbose=True)"
   ]
  },
  {
   "cell_type": "code",
   "execution_count": null,
   "metadata": {},
   "outputs": [],
   "source": [
    "features_defs"
   ]
  },
  {
   "cell_type": "code",
   "execution_count": null,
   "metadata": {},
   "outputs": [],
   "source": [
    "feature_matrix_users"
   ]
  },
  {
   "cell_type": "markdown",
   "metadata": {},
   "source": [
    "## Questions"
   ]
  },
  {
   "cell_type": "markdown",
   "metadata": {},
   "source": [
    "### 1. Define a target metric to measure user engagement. "
   ]
  },
  {
   "cell_type": "markdown",
   "metadata": {},
   "source": [
    "#### How would you define an *engaged* vs. *unengaged* user?"
   ]
  },
  {
   "cell_type": "markdown",
   "metadata": {},
   "source": [
    "Please provide the business justification and associated visualisations / rationale in choosing your definition of engagement."
   ]
  },
  {
   "cell_type": "markdown",
   "metadata": {},
   "source": [
    "#### Propose type of segments"
   ]
  },
  {
   "cell_type": "markdown",
   "metadata": {},
   "source": [
    "Using my domain knowledge and an intuition (as an active Revolut user), I'd like to segment users into 3 segments:\n",
    "\n",
    "1. **Super-commited users**\n",
    "\n",
    "Users, who make transactions in their home country. They're not afraid to use Revolut on their daily basis, even for local ATMs and online purchases.\n",
    "\n",
    "2. **Engaged users**\n",
    "\n",
    "Users, who only make transactions abroad. Their main incentive is to save money on currency exchange spread. They're mostly people with non-premium subscriptions.\n",
    "\n",
    "3. **Unengaged users**\n",
    "\n",
    "Users, who don't make much tranactions, even when they're abroad. Low activity, low responsivness to marketing. "
   ]
  },
  {
   "cell_type": "markdown",
   "metadata": {},
   "source": [
    "It's practically impossible (with current state of data) to detect whenever the user goes abroad and doesn't use his/her Revolut actively there. While it's very easy to count number of transactions per country, this doesn't answer the question if the user went abroad (or not). Because of those facts, we're going to propose some other metric. Recently, customer loyalty has been measured by a metric called \"RFV\". Let's modify it by adding another dimension - response to \"push\" notifications. Such RFV(R) metric should be validated against 3 segments defined above (super-commited, engaged, unengaged) by adjusting importance weights. \n",
    "\n",
    "References:\n",
    "\n",
    "https://www.intotheminds.com/blog/en/the-financial-times-found-the-most-perfect-kpis-to-measure-success/"
   ]
  },
  {
   "cell_type": "markdown",
   "metadata": {},
   "source": [
    "* Recency – when did they last make a transaction?\n",
    "* Frequency – how often do they make transactions?\n",
    "* Volume – how many transactions have they made?\n",
    "* Responsivity - how long it takes to make a transaction since last notification? "
   ]
  },
  {
   "cell_type": "markdown",
   "metadata": {},
   "source": [
    "#### Analyze type of distributions"
   ]
  },
  {
   "cell_type": "code",
   "execution_count": null,
   "metadata": {},
   "outputs": [],
   "source": []
  },
  {
   "cell_type": "markdown",
   "metadata": {},
   "source": [
    "#### Check for Pareto principle"
   ]
  },
  {
   "cell_type": "code",
   "execution_count": null,
   "metadata": {},
   "outputs": [],
   "source": []
  },
  {
   "cell_type": "markdown",
   "metadata": {},
   "source": [
    "#### Calculate Gini coefficient"
   ]
  },
  {
   "cell_type": "code",
   "execution_count": null,
   "metadata": {},
   "outputs": [],
   "source": []
  },
  {
   "cell_type": "markdown",
   "metadata": {},
   "source": [
    "### 2. Using your logic from above, build a model (heuristic/statistical/ML) to classify 'engaged' and 'unengaged' users"
   ]
  },
  {
   "cell_type": "markdown",
   "metadata": {},
   "source": [
    "#### Note that features which are directly correlated with your target metric could lead to overfitting"
   ]
  },
  {
   "cell_type": "code",
   "execution_count": null,
   "metadata": {},
   "outputs": [],
   "source": []
  }
 ],
 "metadata": {
  "kernelspec": {
   "display_name": "Python 3",
   "language": "python",
   "name": "python3"
  },
  "language_info": {
   "codemirror_mode": {
    "name": "ipython",
    "version": 3
   },
   "file_extension": ".py",
   "mimetype": "text/x-python",
   "name": "python",
   "nbconvert_exporter": "python",
   "pygments_lexer": "ipython3",
   "version": "3.7.0"
  }
 },
 "nbformat": 4,
 "nbformat_minor": 2
}
